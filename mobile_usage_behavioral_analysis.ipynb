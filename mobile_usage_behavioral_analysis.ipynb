{
 "cells": [
  {
   "cell_type": "code",
   "execution_count": 1,
   "id": "7e20b326-cbd6-40be-bf4f-389ecbc4233d",
   "metadata": {},
   "outputs": [],
   "source": [
    "import numpy as np\n",
    "import pandas as pd\n",
    "import matplotlib.pyplot as plt\n",
    "import seaborn as sns\n",
    "import category_encoders as ce\n",
    "\n",
    "sns.set_style(\"whitegrid\")\n",
    "\n",
    "from sklearn.impute import SimpleImputer\n",
    "from sklearn.impute import KNNImputer\n",
    "from sklearn.preprocessing import OneHotEncoder\n",
    "from sklearn.preprocessing import StandardScaler\n",
    "from sklearn.model_selection import cross_validate, GridSearchCV\n",
    "from sklearn.neighbors import KNeighborsClassifier\n",
    "from sklearn.linear_model import LogisticRegression\n",
    "from sklearn.tree import DecisionTreeClassifier\n",
    "from sklearn.ensemble import RandomForestClassifier\n",
    "from sklearn.svm import SVC\n",
    "from sklearn.neural_network import MLPClassifier\n",
    "from xgboost import XGBClassifier\n",
    "from lightgbm import LGBMClassifier\n",
    "from sklearn.metrics import classification_report, accuracy_score, f1_score, confusion_matrix\n",
    "\n",
    "import warnings\n",
    "warnings.filterwarnings(\"ignore\")"
   ]
  },
  {
   "cell_type": "markdown",
   "id": "60f1e957-2aad-4994-9160-eed4095af517",
   "metadata": {},
   "source": [
    "# Содержание \n",
    "\n",
    "Набор данных содержит сведения об использовании мобильных устройств и моделях поведения 1000 пользователей. Данные включают в себя различные демографические данные (возраст, пол, местоположение) и статистику использования приложений, например, общее количество часов, потраченных на приложения, ежедневное время, проведенное за экраном, и количество используемых приложений. \n",
    "\n",
    "**Цель данной работы** - провести исследование связи и влияния различных социальных и технических показателей  на \n",
    "пользование  смартфона. \n",
    "\n",
    "Актуальность данной работы состоит в анализе влияния совокупностей факторов на ежедневное использование мобильного телефона. В современном мире каждый иммет сотовое устройство,однако используется оно в разных целях.\n",
    "\n",
    "Таким образом, задача заключается в построении модели, через работу с которой можно будет исходя из данных о сприложениях, а также о пользователе, выявить цели использования телефона.\n",
    "\n",
    "`Daily Screen Time Hours` - это целевая переменная для прогнозирования. Она означает, сколько времени пользователь проводит в телефоне в течении дня.\n",
    "\n",
    "#### Описании параметров:\n",
    "- `User_ID` - пользователь смартфона\n",
    "- `Age` - возраст пользователя\n",
    "- `Gender`- пол пользователя\n",
    "- `Total_App_Usage_Hours`- общее количество проведенного времени в мобильном устройстве в день\n",
    "- **`Daily_Screen_Time_Hours`** - общее экранное время, включая все активности, в часах\n",
    "- `Number_of_Apps_Used` - число различных приложений, использованных пользователем в течении дня\n",
    "- `Social_Media_Usage_Hours` - часы, посвященные приложениям для социальных сетей\n",
    "- `Productivity_App_Usage_Hours` - время, затрачиваемое на приложения, связанные с производительностью\n",
    "- `Gaming_App_Usage_Hours` - часы, проведенные в приложениях для игр\n",
    "- `Location` - город или регион, в котором проживает пользовательльзователь\r\n"
   ]
  },
  {
   "cell_type": "markdown",
   "id": "6b90e10b-74c8-45b2-a3f2-6a5ee091ebb1",
   "metadata": {},
   "source": [
    "Ссылка на датасет:\n",
    "https://www.kaggle.com/datasets/bhadramohit/smartphone-usage-and-behavioral-dataset?resource=download "
   ]
  },
  {
   "cell_type": "markdown",
   "id": "ef2d8527-4b74-408f-8d77-97d305705c4f",
   "metadata": {},
   "source": [
    "### Размер датасета,основные признаки"
   ]
  },
  {
   "cell_type": "code",
   "execution_count": 5,
   "id": "ecfe8736-14e7-4138-887b-a00f6e415523",
   "metadata": {},
   "outputs": [],
   "source": [
    "df = pd.read_csv('mobile_usage_behavioral_analysis.csv')"
   ]
  },
  {
   "cell_type": "code",
   "execution_count": 6,
   "id": "2eec3627-94f7-4a95-b8c8-91bee73982d5",
   "metadata": {},
   "outputs": [
    {
     "data": {
      "text/html": [
       "<div>\n",
       "<style scoped>\n",
       "    .dataframe tbody tr th:only-of-type {\n",
       "        vertical-align: middle;\n",
       "    }\n",
       "\n",
       "    .dataframe tbody tr th {\n",
       "        vertical-align: top;\n",
       "    }\n",
       "\n",
       "    .dataframe thead th {\n",
       "        text-align: right;\n",
       "    }\n",
       "</style>\n",
       "<table border=\"1\" class=\"dataframe\">\n",
       "  <thead>\n",
       "    <tr style=\"text-align: right;\">\n",
       "      <th></th>\n",
       "      <th>User_ID</th>\n",
       "      <th>Age</th>\n",
       "      <th>Gender</th>\n",
       "      <th>Total_App_Usage_Hours</th>\n",
       "      <th>Daily_Screen_Time_Hours</th>\n",
       "      <th>Number_of_Apps_Used</th>\n",
       "      <th>Social_Media_Usage_Hours</th>\n",
       "      <th>Productivity_App_Usage_Hours</th>\n",
       "      <th>Gaming_App_Usage_Hours</th>\n",
       "      <th>Location</th>\n",
       "    </tr>\n",
       "  </thead>\n",
       "  <tbody>\n",
       "    <tr>\n",
       "      <th>0</th>\n",
       "      <td>1</td>\n",
       "      <td>56</td>\n",
       "      <td>Male</td>\n",
       "      <td>2.61</td>\n",
       "      <td>7.15</td>\n",
       "      <td>24</td>\n",
       "      <td>4.43</td>\n",
       "      <td>0.55</td>\n",
       "      <td>2.40</td>\n",
       "      <td>Los Angeles</td>\n",
       "    </tr>\n",
       "    <tr>\n",
       "      <th>1</th>\n",
       "      <td>2</td>\n",
       "      <td>46</td>\n",
       "      <td>Male</td>\n",
       "      <td>2.13</td>\n",
       "      <td>13.79</td>\n",
       "      <td>18</td>\n",
       "      <td>4.67</td>\n",
       "      <td>4.42</td>\n",
       "      <td>2.43</td>\n",
       "      <td>Chicago</td>\n",
       "    </tr>\n",
       "    <tr>\n",
       "      <th>2</th>\n",
       "      <td>3</td>\n",
       "      <td>32</td>\n",
       "      <td>Female</td>\n",
       "      <td>7.28</td>\n",
       "      <td>4.50</td>\n",
       "      <td>11</td>\n",
       "      <td>4.58</td>\n",
       "      <td>1.71</td>\n",
       "      <td>2.83</td>\n",
       "      <td>Houston</td>\n",
       "    </tr>\n",
       "    <tr>\n",
       "      <th>3</th>\n",
       "      <td>4</td>\n",
       "      <td>25</td>\n",
       "      <td>Female</td>\n",
       "      <td>1.20</td>\n",
       "      <td>6.29</td>\n",
       "      <td>21</td>\n",
       "      <td>3.18</td>\n",
       "      <td>3.42</td>\n",
       "      <td>4.58</td>\n",
       "      <td>Phoenix</td>\n",
       "    </tr>\n",
       "    <tr>\n",
       "      <th>4</th>\n",
       "      <td>5</td>\n",
       "      <td>38</td>\n",
       "      <td>Male</td>\n",
       "      <td>6.31</td>\n",
       "      <td>12.59</td>\n",
       "      <td>14</td>\n",
       "      <td>3.15</td>\n",
       "      <td>0.13</td>\n",
       "      <td>4.00</td>\n",
       "      <td>New York</td>\n",
       "    </tr>\n",
       "  </tbody>\n",
       "</table>\n",
       "</div>"
      ],
      "text/plain": [
       "   User_ID  Age  Gender  Total_App_Usage_Hours  Daily_Screen_Time_Hours  \\\n",
       "0        1   56    Male                   2.61                     7.15   \n",
       "1        2   46    Male                   2.13                    13.79   \n",
       "2        3   32  Female                   7.28                     4.50   \n",
       "3        4   25  Female                   1.20                     6.29   \n",
       "4        5   38    Male                   6.31                    12.59   \n",
       "\n",
       "   Number_of_Apps_Used  Social_Media_Usage_Hours  \\\n",
       "0                   24                      4.43   \n",
       "1                   18                      4.67   \n",
       "2                   11                      4.58   \n",
       "3                   21                      3.18   \n",
       "4                   14                      3.15   \n",
       "\n",
       "   Productivity_App_Usage_Hours  Gaming_App_Usage_Hours     Location  \n",
       "0                          0.55                    2.40  Los Angeles  \n",
       "1                          4.42                    2.43      Chicago  \n",
       "2                          1.71                    2.83      Houston  \n",
       "3                          3.42                    4.58      Phoenix  \n",
       "4                          0.13                    4.00     New York  "
      ]
     },
     "execution_count": 6,
     "metadata": {},
     "output_type": "execute_result"
    }
   ],
   "source": [
    "df.head()"
   ]
  },
  {
   "cell_type": "code",
   "execution_count": 7,
   "id": "3cedd421-7dab-47e6-822b-288d55ba1ee8",
   "metadata": {},
   "outputs": [
    {
     "data": {
      "text/html": [
       "<div>\n",
       "<style scoped>\n",
       "    .dataframe tbody tr th:only-of-type {\n",
       "        vertical-align: middle;\n",
       "    }\n",
       "\n",
       "    .dataframe tbody tr th {\n",
       "        vertical-align: top;\n",
       "    }\n",
       "\n",
       "    .dataframe thead th {\n",
       "        text-align: right;\n",
       "    }\n",
       "</style>\n",
       "<table border=\"1\" class=\"dataframe\">\n",
       "  <thead>\n",
       "    <tr style=\"text-align: right;\">\n",
       "      <th></th>\n",
       "      <th>User_ID</th>\n",
       "      <th>Age</th>\n",
       "      <th>Gender</th>\n",
       "      <th>Total_App_Usage_Hours</th>\n",
       "      <th>Daily_Screen_Time_Hours</th>\n",
       "      <th>Number_of_Apps_Used</th>\n",
       "      <th>Social_Media_Usage_Hours</th>\n",
       "      <th>Productivity_App_Usage_Hours</th>\n",
       "      <th>Gaming_App_Usage_Hours</th>\n",
       "      <th>Location</th>\n",
       "    </tr>\n",
       "  </thead>\n",
       "  <tbody>\n",
       "    <tr>\n",
       "      <th>342</th>\n",
       "      <td>343</td>\n",
       "      <td>56</td>\n",
       "      <td>Male</td>\n",
       "      <td>4.99</td>\n",
       "      <td>8.34</td>\n",
       "      <td>24</td>\n",
       "      <td>1.82</td>\n",
       "      <td>2.92</td>\n",
       "      <td>0.61</td>\n",
       "      <td>Chicago</td>\n",
       "    </tr>\n",
       "    <tr>\n",
       "      <th>290</th>\n",
       "      <td>291</td>\n",
       "      <td>55</td>\n",
       "      <td>Female</td>\n",
       "      <td>8.39</td>\n",
       "      <td>3.74</td>\n",
       "      <td>27</td>\n",
       "      <td>4.37</td>\n",
       "      <td>2.23</td>\n",
       "      <td>2.56</td>\n",
       "      <td>Phoenix</td>\n",
       "    </tr>\n",
       "    <tr>\n",
       "      <th>565</th>\n",
       "      <td>566</td>\n",
       "      <td>34</td>\n",
       "      <td>Male</td>\n",
       "      <td>5.14</td>\n",
       "      <td>2.18</td>\n",
       "      <td>19</td>\n",
       "      <td>3.65</td>\n",
       "      <td>0.63</td>\n",
       "      <td>2.76</td>\n",
       "      <td>New York</td>\n",
       "    </tr>\n",
       "    <tr>\n",
       "      <th>2</th>\n",
       "      <td>3</td>\n",
       "      <td>32</td>\n",
       "      <td>Female</td>\n",
       "      <td>7.28</td>\n",
       "      <td>4.50</td>\n",
       "      <td>11</td>\n",
       "      <td>4.58</td>\n",
       "      <td>1.71</td>\n",
       "      <td>2.83</td>\n",
       "      <td>Houston</td>\n",
       "    </tr>\n",
       "    <tr>\n",
       "      <th>194</th>\n",
       "      <td>195</td>\n",
       "      <td>49</td>\n",
       "      <td>Female</td>\n",
       "      <td>2.00</td>\n",
       "      <td>12.79</td>\n",
       "      <td>13</td>\n",
       "      <td>3.84</td>\n",
       "      <td>2.42</td>\n",
       "      <td>2.76</td>\n",
       "      <td>Houston</td>\n",
       "    </tr>\n",
       "  </tbody>\n",
       "</table>\n",
       "</div>"
      ],
      "text/plain": [
       "     User_ID  Age  Gender  Total_App_Usage_Hours  Daily_Screen_Time_Hours  \\\n",
       "342      343   56    Male                   4.99                     8.34   \n",
       "290      291   55  Female                   8.39                     3.74   \n",
       "565      566   34    Male                   5.14                     2.18   \n",
       "2          3   32  Female                   7.28                     4.50   \n",
       "194      195   49  Female                   2.00                    12.79   \n",
       "\n",
       "     Number_of_Apps_Used  Social_Media_Usage_Hours  \\\n",
       "342                   24                      1.82   \n",
       "290                   27                      4.37   \n",
       "565                   19                      3.65   \n",
       "2                     11                      4.58   \n",
       "194                   13                      3.84   \n",
       "\n",
       "     Productivity_App_Usage_Hours  Gaming_App_Usage_Hours  Location  \n",
       "342                          2.92                    0.61   Chicago  \n",
       "290                          2.23                    2.56   Phoenix  \n",
       "565                          0.63                    2.76  New York  \n",
       "2                            1.71                    2.83   Houston  \n",
       "194                          2.42                    2.76   Houston  "
      ]
     },
     "execution_count": 7,
     "metadata": {},
     "output_type": "execute_result"
    }
   ],
   "source": [
    "df.sample(5)"
   ]
  },
  {
   "cell_type": "markdown",
   "id": "3a26c64a-1fc5-46b9-bdf5-fdbd06ae2f78",
   "metadata": {},
   "source": [
    "### Размер датасета"
   ]
  },
  {
   "cell_type": "code",
   "execution_count": 9,
   "id": "85af8e91-a870-4804-a3cc-4a7c7974988b",
   "metadata": {},
   "outputs": [
    {
     "data": {
      "text/plain": [
       "(1000, 10)"
      ]
     },
     "execution_count": 9,
     "metadata": {},
     "output_type": "execute_result"
    }
   ],
   "source": [
    "df.shape"
   ]
  },
  {
   "cell_type": "markdown",
   "id": "6fbded00-131b-414e-b1c3-37fb346ccf0a",
   "metadata": {},
   "source": [
    "1000 - наблюдений,\n",
    "10- признаков"
   ]
  },
  {
   "cell_type": "markdown",
   "id": "e953ffd9-6a64-4456-bc6f-536e6fddf2a7",
   "metadata": {},
   "source": [
    "Пропуски"
   ]
  },
  {
   "cell_type": "code",
   "execution_count": 12,
   "id": "ea60a3f8-7dd0-4e4e-a627-33ba9d3b097b",
   "metadata": {},
   "outputs": [
    {
     "data": {
      "text/plain": [
       "User_ID                         0\n",
       "Age                             0\n",
       "Gender                          0\n",
       "Total_App_Usage_Hours           0\n",
       "Daily_Screen_Time_Hours         0\n",
       "Number_of_Apps_Used             0\n",
       "Social_Media_Usage_Hours        0\n",
       "Productivity_App_Usage_Hours    0\n",
       "Gaming_App_Usage_Hours          0\n",
       "Location                        0\n",
       "dtype: int64"
      ]
     },
     "execution_count": 12,
     "metadata": {},
     "output_type": "execute_result"
    }
   ],
   "source": [
    "df.isna().sum()"
   ]
  },
  {
   "cell_type": "markdown",
   "id": "3d4a6c35-8445-47b9-aa46-a36461dbb94a",
   "metadata": {},
   "source": [
    "Можно заметить полное отсуствие пропущенных значений, что говорит об очень хорошем качестве представленных данных."
   ]
  },
  {
   "cell_type": "markdown",
   "id": "6da4396e-774a-45fb-b8da-c3c8dfb0940a",
   "metadata": {},
   "source": [
    "### Проверяем данные на дубли"
   ]
  },
  {
   "cell_type": "code",
   "execution_count": 15,
   "id": "752a419e-cbb9-4c7a-9752-79cfa05a0fa4",
   "metadata": {},
   "outputs": [
    {
     "name": "stdout",
     "output_type": "stream",
     "text": [
      "Total_Screen_Time_Hours has 0 duplicated data\n"
     ]
    }
   ],
   "source": [
    "print(f\"Total_Screen_Time_Hours has {df.duplicated().sum()} duplicated data\")"
   ]
  },
  {
   "cell_type": "markdown",
   "id": "a0e03253-2346-4096-8478-d7496c72db72",
   "metadata": {},
   "source": [
    "Смотрим информацию о датасете"
   ]
  },
  {
   "cell_type": "code",
   "execution_count": 17,
   "id": "abfdc7a6-cffb-4951-9dd3-9d14fdd9e5c6",
   "metadata": {
    "scrolled": true
   },
   "outputs": [
    {
     "name": "stdout",
     "output_type": "stream",
     "text": [
      "<class 'pandas.core.frame.DataFrame'>\n",
      "RangeIndex: 1000 entries, 0 to 999\n",
      "Data columns (total 10 columns):\n",
      " #   Column                        Non-Null Count  Dtype  \n",
      "---  ------                        --------------  -----  \n",
      " 0   User_ID                       1000 non-null   int64  \n",
      " 1   Age                           1000 non-null   int64  \n",
      " 2   Gender                        1000 non-null   object \n",
      " 3   Total_App_Usage_Hours         1000 non-null   float64\n",
      " 4   Daily_Screen_Time_Hours       1000 non-null   float64\n",
      " 5   Number_of_Apps_Used           1000 non-null   int64  \n",
      " 6   Social_Media_Usage_Hours      1000 non-null   float64\n",
      " 7   Productivity_App_Usage_Hours  1000 non-null   float64\n",
      " 8   Gaming_App_Usage_Hours        1000 non-null   float64\n",
      " 9   Location                      1000 non-null   object \n",
      "dtypes: float64(5), int64(3), object(2)\n",
      "memory usage: 78.3+ KB\n"
     ]
    }
   ],
   "source": [
    "df.info()"
   ]
  },
  {
   "cell_type": "markdown",
   "id": "352c3aaf-aa3d-4175-9cdb-03f882179fbc",
   "metadata": {},
   "source": [
    "У нас 10 переменных по 1000 записей. Типы переменных:\n",
    "\n",
    "**Numerical:** 8 columns (User_ID, Age, Total_App_Usage_Hours, Daily_Screen_Time_Hours, Number_of_Apps_Used, Social_Media_Usage_Hours, Productivity_App_Usage_Hours,Gaming_App_Usage_Hours).\n",
    "\n",
    "**Categorical:** 2 columns (Gender, Location)"
   ]
  },
  {
   "cell_type": "markdown",
   "id": "6b2c67bc-f082-4aee-97ef-b17c7638afac",
   "metadata": {},
   "source": [
    "### Основные статистики"
   ]
  },
  {
   "cell_type": "code",
   "execution_count": 20,
   "id": "a141db6c-1be6-4a92-b39b-fa77770360e4",
   "metadata": {},
   "outputs": [
    {
     "data": {
      "text/html": [
       "<div>\n",
       "<style scoped>\n",
       "    .dataframe tbody tr th:only-of-type {\n",
       "        vertical-align: middle;\n",
       "    }\n",
       "\n",
       "    .dataframe tbody tr th {\n",
       "        vertical-align: top;\n",
       "    }\n",
       "\n",
       "    .dataframe thead th {\n",
       "        text-align: right;\n",
       "    }\n",
       "</style>\n",
       "<table border=\"1\" class=\"dataframe\">\n",
       "  <thead>\n",
       "    <tr style=\"text-align: right;\">\n",
       "      <th></th>\n",
       "      <th>User_ID</th>\n",
       "      <th>Age</th>\n",
       "      <th>Total_App_Usage_Hours</th>\n",
       "      <th>Daily_Screen_Time_Hours</th>\n",
       "      <th>Number_of_Apps_Used</th>\n",
       "      <th>Social_Media_Usage_Hours</th>\n",
       "      <th>Productivity_App_Usage_Hours</th>\n",
       "      <th>Gaming_App_Usage_Hours</th>\n",
       "    </tr>\n",
       "  </thead>\n",
       "  <tbody>\n",
       "    <tr>\n",
       "      <th>count</th>\n",
       "      <td>1000.000000</td>\n",
       "      <td>1000.000000</td>\n",
       "      <td>1000.000000</td>\n",
       "      <td>1000.000000</td>\n",
       "      <td>1000.00000</td>\n",
       "      <td>1000.000000</td>\n",
       "      <td>1000.000000</td>\n",
       "      <td>1000.000000</td>\n",
       "    </tr>\n",
       "    <tr>\n",
       "      <th>mean</th>\n",
       "      <td>500.500000</td>\n",
       "      <td>38.745000</td>\n",
       "      <td>6.405670</td>\n",
       "      <td>7.696310</td>\n",
       "      <td>16.64700</td>\n",
       "      <td>2.456330</td>\n",
       "      <td>2.495270</td>\n",
       "      <td>2.475410</td>\n",
       "    </tr>\n",
       "    <tr>\n",
       "      <th>std</th>\n",
       "      <td>288.819436</td>\n",
       "      <td>12.186734</td>\n",
       "      <td>3.134855</td>\n",
       "      <td>3.714187</td>\n",
       "      <td>7.61961</td>\n",
       "      <td>1.439525</td>\n",
       "      <td>1.443392</td>\n",
       "      <td>1.450362</td>\n",
       "    </tr>\n",
       "    <tr>\n",
       "      <th>min</th>\n",
       "      <td>1.000000</td>\n",
       "      <td>18.000000</td>\n",
       "      <td>1.000000</td>\n",
       "      <td>1.010000</td>\n",
       "      <td>3.00000</td>\n",
       "      <td>0.000000</td>\n",
       "      <td>0.000000</td>\n",
       "      <td>0.010000</td>\n",
       "    </tr>\n",
       "    <tr>\n",
       "      <th>25%</th>\n",
       "      <td>250.750000</td>\n",
       "      <td>28.000000</td>\n",
       "      <td>3.590000</td>\n",
       "      <td>4.530000</td>\n",
       "      <td>10.00000</td>\n",
       "      <td>1.200000</td>\n",
       "      <td>1.282500</td>\n",
       "      <td>1.220000</td>\n",
       "    </tr>\n",
       "    <tr>\n",
       "      <th>50%</th>\n",
       "      <td>500.500000</td>\n",
       "      <td>40.000000</td>\n",
       "      <td>6.455000</td>\n",
       "      <td>7.880000</td>\n",
       "      <td>17.00000</td>\n",
       "      <td>2.445000</td>\n",
       "      <td>2.435000</td>\n",
       "      <td>2.455000</td>\n",
       "    </tr>\n",
       "    <tr>\n",
       "      <th>75%</th>\n",
       "      <td>750.250000</td>\n",
       "      <td>50.000000</td>\n",
       "      <td>9.122500</td>\n",
       "      <td>10.910000</td>\n",
       "      <td>23.00000</td>\n",
       "      <td>3.672500</td>\n",
       "      <td>3.710000</td>\n",
       "      <td>3.782500</td>\n",
       "    </tr>\n",
       "    <tr>\n",
       "      <th>max</th>\n",
       "      <td>1000.000000</td>\n",
       "      <td>59.000000</td>\n",
       "      <td>11.970000</td>\n",
       "      <td>14.000000</td>\n",
       "      <td>29.00000</td>\n",
       "      <td>4.990000</td>\n",
       "      <td>5.000000</td>\n",
       "      <td>5.000000</td>\n",
       "    </tr>\n",
       "  </tbody>\n",
       "</table>\n",
       "</div>"
      ],
      "text/plain": [
       "           User_ID          Age  Total_App_Usage_Hours  \\\n",
       "count  1000.000000  1000.000000            1000.000000   \n",
       "mean    500.500000    38.745000               6.405670   \n",
       "std     288.819436    12.186734               3.134855   \n",
       "min       1.000000    18.000000               1.000000   \n",
       "25%     250.750000    28.000000               3.590000   \n",
       "50%     500.500000    40.000000               6.455000   \n",
       "75%     750.250000    50.000000               9.122500   \n",
       "max    1000.000000    59.000000              11.970000   \n",
       "\n",
       "       Daily_Screen_Time_Hours  Number_of_Apps_Used  Social_Media_Usage_Hours  \\\n",
       "count              1000.000000           1000.00000               1000.000000   \n",
       "mean                  7.696310             16.64700                  2.456330   \n",
       "std                   3.714187              7.61961                  1.439525   \n",
       "min                   1.010000              3.00000                  0.000000   \n",
       "25%                   4.530000             10.00000                  1.200000   \n",
       "50%                   7.880000             17.00000                  2.445000   \n",
       "75%                  10.910000             23.00000                  3.672500   \n",
       "max                  14.000000             29.00000                  4.990000   \n",
       "\n",
       "       Productivity_App_Usage_Hours  Gaming_App_Usage_Hours  \n",
       "count                   1000.000000             1000.000000  \n",
       "mean                       2.495270                2.475410  \n",
       "std                        1.443392                1.450362  \n",
       "min                        0.000000                0.010000  \n",
       "25%                        1.282500                1.220000  \n",
       "50%                        2.435000                2.455000  \n",
       "75%                        3.710000                3.782500  \n",
       "max                        5.000000                5.000000  "
      ]
     },
     "execution_count": 20,
     "metadata": {},
     "output_type": "execute_result"
    }
   ],
   "source": [
    "df.describe()"
   ]
  },
  {
   "cell_type": "markdown",
   "id": "26e99ef9-bbf9-4a37-9763-8438ea08b8bd",
   "metadata": {},
   "source": [
    "Можем наблюдать, что чем старше возраст, тем больше используются мобильное средство."
   ]
  },
  {
   "cell_type": "code",
   "execution_count": 22,
   "id": "9f23ace7-ab06-4a57-bec6-657e1c453a01",
   "metadata": {},
   "outputs": [
    {
     "data": {
      "text/html": [
       "<div>\n",
       "<style scoped>\n",
       "    .dataframe tbody tr th:only-of-type {\n",
       "        vertical-align: middle;\n",
       "    }\n",
       "\n",
       "    .dataframe tbody tr th {\n",
       "        vertical-align: top;\n",
       "    }\n",
       "\n",
       "    .dataframe thead th {\n",
       "        text-align: right;\n",
       "    }\n",
       "</style>\n",
       "<table border=\"1\" class=\"dataframe\">\n",
       "  <thead>\n",
       "    <tr style=\"text-align: right;\">\n",
       "      <th></th>\n",
       "      <th>Gender</th>\n",
       "      <th>Location</th>\n",
       "    </tr>\n",
       "  </thead>\n",
       "  <tbody>\n",
       "    <tr>\n",
       "      <th>count</th>\n",
       "      <td>1000</td>\n",
       "      <td>1000</td>\n",
       "    </tr>\n",
       "    <tr>\n",
       "      <th>unique</th>\n",
       "      <td>2</td>\n",
       "      <td>5</td>\n",
       "    </tr>\n",
       "    <tr>\n",
       "      <th>top</th>\n",
       "      <td>Male</td>\n",
       "      <td>New York</td>\n",
       "    </tr>\n",
       "    <tr>\n",
       "      <th>freq</th>\n",
       "      <td>517</td>\n",
       "      <td>243</td>\n",
       "    </tr>\n",
       "  </tbody>\n",
       "</table>\n",
       "</div>"
      ],
      "text/plain": [
       "       Gender  Location\n",
       "count    1000      1000\n",
       "unique      2         5\n",
       "top      Male  New York\n",
       "freq      517       243"
      ]
     },
     "execution_count": 22,
     "metadata": {},
     "output_type": "execute_result"
    }
   ],
   "source": [
    "df.describe(include='object')"
   ]
  },
  {
   "cell_type": "markdown",
   "id": "5edef930-9328-4e0e-aacb-44bb7ccc9ca4",
   "metadata": {},
   "source": [
    "## Exploratory Data Analysis"
   ]
  },
  {
   "cell_type": "markdown",
   "id": "1e8d3131-a298-4cfc-9a60-73a530dfd42c",
   "metadata": {},
   "source": [
    "### Целевая переменная"
   ]
  },
  {
   "cell_type": "markdown",
   "id": "9adc1b38-1a25-4621-939b-008e2f22f772",
   "metadata": {},
   "source": [
    "Согласно задаче целевая переменная дожна показывать ежедневное количество часов использования телефона, то есть за целевую переменную приняли `Daily_Screen_Time_Hours`: \n",
    "- `1 = high usage` (использование больше (>=) 4 часов в день), \n",
    "- `0 = low usage` (использование меньше (<) 4 часов). \n",
    "\n",
    "### Рассмотрим на примере выборки из датасета:"
   ]
  },
  {
   "cell_type": "code",
   "execution_count": 26,
   "id": "5a826e57-a8de-4c79-8c43-8385e60397aa",
   "metadata": {},
   "outputs": [],
   "source": [
    "threshold = 4"
   ]
  },
  {
   "cell_type": "code",
   "execution_count": 27,
   "id": "e42b735f-ef89-4ddf-8679-a095e66ed48d",
   "metadata": {},
   "outputs": [
    {
     "data": {
      "text/plain": [
       "21.7"
      ]
     },
     "execution_count": 27,
     "metadata": {},
     "output_type": "execute_result"
    }
   ],
   "source": [
    "#использование меньше (<) 4 часов\n",
    "df.Daily_Screen_Time_Hours[df.Daily_Screen_Time_Hours < threshold].count()/len(df)*100"
   ]
  },
  {
   "cell_type": "code",
   "execution_count": 28,
   "id": "beee64e4-d712-4743-a855-12dabfa4fda2",
   "metadata": {
    "scrolled": true
   },
   "outputs": [
    {
     "data": {
      "text/plain": [
       "78.3"
      ]
     },
     "execution_count": 28,
     "metadata": {},
     "output_type": "execute_result"
    }
   ],
   "source": [
    "#использование больше (>=) 4 часов в день\n",
    "df.Daily_Screen_Time_Hours[df.Daily_Screen_Time_Hours >= threshold].count()/len(df)*100"
   ]
  },
  {
   "cell_type": "code",
   "execution_count": 29,
   "id": "cfd84e49-7da7-42ff-9b90-e2889a8aa158",
   "metadata": {},
   "outputs": [],
   "source": [
    "data = {'Daily_Screen_Time_Hours': df['Daily_Screen_Time_Hours'].sample(n=50, random_state=42)}\n",
    "df_target = pd.DataFrame(data)"
   ]
  },
  {
   "cell_type": "code",
   "execution_count": 30,
   "id": "2bab3b35-551e-4010-85e6-f27a21883612",
   "metadata": {},
   "outputs": [],
   "source": [
    "df_target['High_Usage'] = (df_target['Daily_Screen_Time_Hours'] >= threshold).astype(int)"
   ]
  },
  {
   "cell_type": "code",
   "execution_count": 31,
   "id": "abbfc0a3-7c32-4e73-b0e3-cd34e7855f10",
   "metadata": {},
   "outputs": [
    {
     "data": {
      "text/plain": [
       "High_Usage\n",
       "1    36\n",
       "0    14\n",
       "Name: count, dtype: int64"
      ]
     },
     "execution_count": 31,
     "metadata": {},
     "output_type": "execute_result"
    }
   ],
   "source": [
    "df_target['High_Usage'].value_counts()"
   ]
  },
  {
   "cell_type": "markdown",
   "id": "382f3165-1421-4067-ba3d-c2c47ac19b0a",
   "metadata": {},
   "source": [
    "Распределение 0 и 1 в датасете неравномерное одинаково (21.7% и 78.3% соответственно)\n",
    "\n",
    "Из выбранной совокупности (50 пользователей) 14 пользователей используют телефон меньше 4 часов, остальные — больше 8 часов.\n",
    "\n",
    "**Задача ML** - задача `бинарной классификации`.\n",
    "Задача модели - спрогнозировать, будет ли пользователь активно использовать телефон в данный день(> 4 часов)."
   ]
  },
  {
   "cell_type": "markdown",
   "id": "8aa7d8cf-f122-493e-8c6d-8c22cfed8098",
   "metadata": {},
   "source": [
    "Сгруппируем наши типы переменных и создадим две функции для визуализации наших числовых и категориальных данных."
   ]
  },
  {
   "cell_type": "code",
   "execution_count": 34,
   "id": "58b63fe3-2c23-4fd8-806b-5223d635b941",
   "metadata": {},
   "outputs": [
    {
     "data": {
      "text/html": [
       "<div>\n",
       "<style scoped>\n",
       "    .dataframe tbody tr th:only-of-type {\n",
       "        vertical-align: middle;\n",
       "    }\n",
       "\n",
       "    .dataframe tbody tr th {\n",
       "        vertical-align: top;\n",
       "    }\n",
       "\n",
       "    .dataframe thead th {\n",
       "        text-align: right;\n",
       "    }\n",
       "</style>\n",
       "<table border=\"1\" class=\"dataframe\">\n",
       "  <thead>\n",
       "    <tr style=\"text-align: right;\">\n",
       "      <th></th>\n",
       "      <th>Age</th>\n",
       "      <th>Gender</th>\n",
       "      <th>Total_App_Usage_Hours</th>\n",
       "      <th>Daily_Screen_Time_Hours</th>\n",
       "      <th>Number_of_Apps_Used</th>\n",
       "      <th>Social_Media_Usage_Hours</th>\n",
       "      <th>Productivity_App_Usage_Hours</th>\n",
       "      <th>Gaming_App_Usage_Hours</th>\n",
       "      <th>Location</th>\n",
       "    </tr>\n",
       "  </thead>\n",
       "  <tbody>\n",
       "    <tr>\n",
       "      <th>0</th>\n",
       "      <td>56</td>\n",
       "      <td>Male</td>\n",
       "      <td>2.61</td>\n",
       "      <td>7.15</td>\n",
       "      <td>24</td>\n",
       "      <td>4.43</td>\n",
       "      <td>0.55</td>\n",
       "      <td>2.40</td>\n",
       "      <td>Los Angeles</td>\n",
       "    </tr>\n",
       "    <tr>\n",
       "      <th>1</th>\n",
       "      <td>46</td>\n",
       "      <td>Male</td>\n",
       "      <td>2.13</td>\n",
       "      <td>13.79</td>\n",
       "      <td>18</td>\n",
       "      <td>4.67</td>\n",
       "      <td>4.42</td>\n",
       "      <td>2.43</td>\n",
       "      <td>Chicago</td>\n",
       "    </tr>\n",
       "    <tr>\n",
       "      <th>2</th>\n",
       "      <td>32</td>\n",
       "      <td>Female</td>\n",
       "      <td>7.28</td>\n",
       "      <td>4.50</td>\n",
       "      <td>11</td>\n",
       "      <td>4.58</td>\n",
       "      <td>1.71</td>\n",
       "      <td>2.83</td>\n",
       "      <td>Houston</td>\n",
       "    </tr>\n",
       "    <tr>\n",
       "      <th>3</th>\n",
       "      <td>25</td>\n",
       "      <td>Female</td>\n",
       "      <td>1.20</td>\n",
       "      <td>6.29</td>\n",
       "      <td>21</td>\n",
       "      <td>3.18</td>\n",
       "      <td>3.42</td>\n",
       "      <td>4.58</td>\n",
       "      <td>Phoenix</td>\n",
       "    </tr>\n",
       "    <tr>\n",
       "      <th>4</th>\n",
       "      <td>38</td>\n",
       "      <td>Male</td>\n",
       "      <td>6.31</td>\n",
       "      <td>12.59</td>\n",
       "      <td>14</td>\n",
       "      <td>3.15</td>\n",
       "      <td>0.13</td>\n",
       "      <td>4.00</td>\n",
       "      <td>New York</td>\n",
       "    </tr>\n",
       "    <tr>\n",
       "      <th>...</th>\n",
       "      <td>...</td>\n",
       "      <td>...</td>\n",
       "      <td>...</td>\n",
       "      <td>...</td>\n",
       "      <td>...</td>\n",
       "      <td>...</td>\n",
       "      <td>...</td>\n",
       "      <td>...</td>\n",
       "      <td>...</td>\n",
       "    </tr>\n",
       "    <tr>\n",
       "      <th>995</th>\n",
       "      <td>41</td>\n",
       "      <td>Female</td>\n",
       "      <td>3.58</td>\n",
       "      <td>12.46</td>\n",
       "      <td>13</td>\n",
       "      <td>4.12</td>\n",
       "      <td>2.44</td>\n",
       "      <td>1.33</td>\n",
       "      <td>Los Angeles</td>\n",
       "    </tr>\n",
       "    <tr>\n",
       "      <th>996</th>\n",
       "      <td>32</td>\n",
       "      <td>Male</td>\n",
       "      <td>9.65</td>\n",
       "      <td>10.51</td>\n",
       "      <td>11</td>\n",
       "      <td>1.02</td>\n",
       "      <td>1.02</td>\n",
       "      <td>3.84</td>\n",
       "      <td>Los Angeles</td>\n",
       "    </tr>\n",
       "    <tr>\n",
       "      <th>997</th>\n",
       "      <td>46</td>\n",
       "      <td>Female</td>\n",
       "      <td>11.68</td>\n",
       "      <td>10.06</td>\n",
       "      <td>9</td>\n",
       "      <td>2.35</td>\n",
       "      <td>3.13</td>\n",
       "      <td>1.03</td>\n",
       "      <td>Phoenix</td>\n",
       "    </tr>\n",
       "    <tr>\n",
       "      <th>998</th>\n",
       "      <td>25</td>\n",
       "      <td>Male</td>\n",
       "      <td>3.89</td>\n",
       "      <td>10.78</td>\n",
       "      <td>15</td>\n",
       "      <td>4.00</td>\n",
       "      <td>1.79</td>\n",
       "      <td>1.61</td>\n",
       "      <td>Phoenix</td>\n",
       "    </tr>\n",
       "    <tr>\n",
       "      <th>999</th>\n",
       "      <td>22</td>\n",
       "      <td>Female</td>\n",
       "      <td>3.99</td>\n",
       "      <td>7.05</td>\n",
       "      <td>4</td>\n",
       "      <td>0.90</td>\n",
       "      <td>4.98</td>\n",
       "      <td>2.33</td>\n",
       "      <td>Phoenix</td>\n",
       "    </tr>\n",
       "  </tbody>\n",
       "</table>\n",
       "<p>1000 rows × 9 columns</p>\n",
       "</div>"
      ],
      "text/plain": [
       "     Age  Gender  Total_App_Usage_Hours  Daily_Screen_Time_Hours  \\\n",
       "0     56    Male                   2.61                     7.15   \n",
       "1     46    Male                   2.13                    13.79   \n",
       "2     32  Female                   7.28                     4.50   \n",
       "3     25  Female                   1.20                     6.29   \n",
       "4     38    Male                   6.31                    12.59   \n",
       "..   ...     ...                    ...                      ...   \n",
       "995   41  Female                   3.58                    12.46   \n",
       "996   32    Male                   9.65                    10.51   \n",
       "997   46  Female                  11.68                    10.06   \n",
       "998   25    Male                   3.89                    10.78   \n",
       "999   22  Female                   3.99                     7.05   \n",
       "\n",
       "     Number_of_Apps_Used  Social_Media_Usage_Hours  \\\n",
       "0                     24                      4.43   \n",
       "1                     18                      4.67   \n",
       "2                     11                      4.58   \n",
       "3                     21                      3.18   \n",
       "4                     14                      3.15   \n",
       "..                   ...                       ...   \n",
       "995                   13                      4.12   \n",
       "996                   11                      1.02   \n",
       "997                    9                      2.35   \n",
       "998                   15                      4.00   \n",
       "999                    4                      0.90   \n",
       "\n",
       "     Productivity_App_Usage_Hours  Gaming_App_Usage_Hours     Location  \n",
       "0                            0.55                    2.40  Los Angeles  \n",
       "1                            4.42                    2.43      Chicago  \n",
       "2                            1.71                    2.83      Houston  \n",
       "3                            3.42                    4.58      Phoenix  \n",
       "4                            0.13                    4.00     New York  \n",
       "..                            ...                     ...          ...  \n",
       "995                          2.44                    1.33  Los Angeles  \n",
       "996                          1.02                    3.84  Los Angeles  \n",
       "997                          3.13                    1.03      Phoenix  \n",
       "998                          1.79                    1.61      Phoenix  \n",
       "999                          4.98                    2.33      Phoenix  \n",
       "\n",
       "[1000 rows x 9 columns]"
      ]
     },
     "execution_count": 34,
     "metadata": {},
     "output_type": "execute_result"
    }
   ],
   "source": [
    "df.drop(columns=[\"User_ID\"])"
   ]
  },
  {
   "cell_type": "code",
   "execution_count": 35,
   "id": "71a8a26a-9336-43ba-bd53-3607219b5db4",
   "metadata": {},
   "outputs": [],
   "source": [
    "num_var = [\"Age\", \"Total_App_Usage_Hours\", \"Number_of_Apps_Used\", \"Social_Media_Usage_Hours\", \"Productivity_App_Usage_Hours\",\"Gaming_App_Usage_Hours\"]\n",
    "cat_var = [\"Gender\", \"Location\"]\n",
    "target = \"Daily_Screen_Time_Hours\""
   ]
  },
  {
   "cell_type": "code",
   "execution_count": 36,
   "id": "21d6e69a-1f63-492a-a6d1-1ac8d6fdc363",
   "metadata": {},
   "outputs": [
    {
     "data": {
      "text/html": [
       "<div>\n",
       "<style scoped>\n",
       "    .dataframe tbody tr th:only-of-type {\n",
       "        vertical-align: middle;\n",
       "    }\n",
       "\n",
       "    .dataframe tbody tr th {\n",
       "        vertical-align: top;\n",
       "    }\n",
       "\n",
       "    .dataframe thead th {\n",
       "        text-align: right;\n",
       "    }\n",
       "</style>\n",
       "<table border=\"1\" class=\"dataframe\">\n",
       "  <thead>\n",
       "    <tr style=\"text-align: right;\">\n",
       "      <th></th>\n",
       "      <th>User_ID</th>\n",
       "      <th>Age</th>\n",
       "      <th>Gender</th>\n",
       "      <th>Total_App_Usage_Hours</th>\n",
       "      <th>Daily_Screen_Time_Hours</th>\n",
       "      <th>Number_of_Apps_Used</th>\n",
       "      <th>Social_Media_Usage_Hours</th>\n",
       "      <th>Productivity_App_Usage_Hours</th>\n",
       "      <th>Gaming_App_Usage_Hours</th>\n",
       "      <th>Location</th>\n",
       "    </tr>\n",
       "  </thead>\n",
       "  <tbody>\n",
       "    <tr>\n",
       "      <th>0</th>\n",
       "      <td>1</td>\n",
       "      <td>56</td>\n",
       "      <td>Male</td>\n",
       "      <td>2.61</td>\n",
       "      <td>7.15</td>\n",
       "      <td>24</td>\n",
       "      <td>4.43</td>\n",
       "      <td>0.55</td>\n",
       "      <td>2.40</td>\n",
       "      <td>Los Angeles</td>\n",
       "    </tr>\n",
       "    <tr>\n",
       "      <th>1</th>\n",
       "      <td>2</td>\n",
       "      <td>46</td>\n",
       "      <td>Male</td>\n",
       "      <td>2.13</td>\n",
       "      <td>13.79</td>\n",
       "      <td>18</td>\n",
       "      <td>4.67</td>\n",
       "      <td>4.42</td>\n",
       "      <td>2.43</td>\n",
       "      <td>Chicago</td>\n",
       "    </tr>\n",
       "    <tr>\n",
       "      <th>2</th>\n",
       "      <td>3</td>\n",
       "      <td>32</td>\n",
       "      <td>Female</td>\n",
       "      <td>7.28</td>\n",
       "      <td>4.50</td>\n",
       "      <td>11</td>\n",
       "      <td>4.58</td>\n",
       "      <td>1.71</td>\n",
       "      <td>2.83</td>\n",
       "      <td>Houston</td>\n",
       "    </tr>\n",
       "    <tr>\n",
       "      <th>3</th>\n",
       "      <td>4</td>\n",
       "      <td>25</td>\n",
       "      <td>Female</td>\n",
       "      <td>1.20</td>\n",
       "      <td>6.29</td>\n",
       "      <td>21</td>\n",
       "      <td>3.18</td>\n",
       "      <td>3.42</td>\n",
       "      <td>4.58</td>\n",
       "      <td>Phoenix</td>\n",
       "    </tr>\n",
       "    <tr>\n",
       "      <th>4</th>\n",
       "      <td>5</td>\n",
       "      <td>38</td>\n",
       "      <td>Male</td>\n",
       "      <td>6.31</td>\n",
       "      <td>12.59</td>\n",
       "      <td>14</td>\n",
       "      <td>3.15</td>\n",
       "      <td>0.13</td>\n",
       "      <td>4.00</td>\n",
       "      <td>New York</td>\n",
       "    </tr>\n",
       "  </tbody>\n",
       "</table>\n",
       "</div>"
      ],
      "text/plain": [
       "   User_ID  Age  Gender  Total_App_Usage_Hours  Daily_Screen_Time_Hours  \\\n",
       "0        1   56    Male                   2.61                     7.15   \n",
       "1        2   46    Male                   2.13                    13.79   \n",
       "2        3   32  Female                   7.28                     4.50   \n",
       "3        4   25  Female                   1.20                     6.29   \n",
       "4        5   38    Male                   6.31                    12.59   \n",
       "\n",
       "   Number_of_Apps_Used  Social_Media_Usage_Hours  \\\n",
       "0                   24                      4.43   \n",
       "1                   18                      4.67   \n",
       "2                   11                      4.58   \n",
       "3                   21                      3.18   \n",
       "4                   14                      3.15   \n",
       "\n",
       "   Productivity_App_Usage_Hours  Gaming_App_Usage_Hours     Location  \n",
       "0                          0.55                    2.40  Los Angeles  \n",
       "1                          4.42                    2.43      Chicago  \n",
       "2                          1.71                    2.83      Houston  \n",
       "3                          3.42                    4.58      Phoenix  \n",
       "4                          0.13                    4.00     New York  "
      ]
     },
     "execution_count": 36,
     "metadata": {},
     "output_type": "execute_result"
    }
   ],
   "source": [
    "df.head()"
   ]
  },
  {
   "cell_type": "code",
   "execution_count": 37,
   "id": "44e5bfb0-6fdc-42ad-88a9-af44e9ffd918",
   "metadata": {},
   "outputs": [],
   "source": [
    "def num_dist(data, var):\n",
    "    fig, ax = plt.subplots(1, 2, figsize=(12, 4))\n",
    "\n",
    "    sns.histplot(data=data, x=var, kde=True, ax=ax[0])\n",
    "    sns.boxplot(data=data, x=var, ax=ax[1])\n",
    "    ax[0].set_title(f\"{var} Distribution Histogram\")\n",
    "    ax[1].set_title(f\"{var} Distribution Boxplot\")\n",
    "\n",
    "    plt.show()\n",
    "    \n",
    "def cat_dist(data, var):\n",
    "    fig, ax = plt.subplots(1, 2, figsize=(12, 4))\n",
    "\n",
    "    df[var].value_counts().plot(kind=\"pie\", explode=[0.05 for x in data[var].dropna().unique()], autopct='%1.1f%%', ax=ax[0], shadow=True)\n",
    "    ax[0].set_title(f\"{var} Pie Chart\")\n",
    "    ax[0].set_ylabel('')\n",
    "\n",
    "    count = sns.countplot(x=var, data=df, ax=ax[1])\n",
    "    for bar in count.patches:\n",
    "        count.annotate(format(bar.get_height()),\n",
    "            (bar.get_x() + bar.get_width() / 2,\n",
    "            bar.get_height()), ha='center', va='center',\n",
    "            size=11, xytext=(0, 8),\n",
    "            textcoords='offset points')\n",
    "    ax[1].set_title(f\"{var} Bar Chart\")\n",
    "    plt.show()"
   ]
  },
  {
   "cell_type": "markdown",
   "id": "5c4c2ba8-31ce-43d0-a6db-45da2065d8a4",
   "metadata": {},
   "source": [
    "Распределение целевой переменной"
   ]
  },
  {
   "cell_type": "code",
   "execution_count": 39,
   "id": "9f00a90a-9c81-4c31-a1d6-4f50cd859964",
   "metadata": {},
   "outputs": [
    {
     "data": {
      "image/png": "[encoded data removed]",
      "text/plain": [
       "<Figure size 1200x400 with 2 Axes>"
      ]
     },
     "metadata": {},
     "output_type": "display_data"
    }
   ],
   "source": [
    "num_dist(df, target)"
   ]
  },
  {
   "cell_type": "code",
   "execution_count": 40,
   "id": "bc82bd75-f840-4ae1-a326-a593a98d9d29",
   "metadata": {},
   "outputs": [],
   "source": [
    "df['Daily_Screen_Time_Hours_bool'] = (df['Daily_Screen_Time_Hours'] >= threshold).astype(int)"
   ]
  },
  {
   "cell_type": "code",
   "execution_count": 41,
   "id": "0ccca849-7356-4524-95a8-d553b3d5c7dc",
   "metadata": {},
   "outputs": [
    {
     "data": {
      "image/png": "[encoded data removed]",
      "text/plain": [
       "<Figure size 1200x400 with 2 Axes>"
      ]
     },
     "metadata": {},
     "output_type": "display_data"
    }
   ],
   "source": [
    "cat_dist(df, 'Daily_Screen_Time_Hours_bool')"
   ]
  },
  {
   "cell_type": "markdown",
   "id": "270dc0b1-aef5-40e9-a3e3-d38b22a13839",
   "metadata": {},
   "source": [
    "Выводы: Большинство пользователей использует более 4 часов, что является активным показателем. "
   ]
  },
  {
   "cell_type": "markdown",
   "id": "f9aef5cc-81e1-49d5-89f7-5637cd700b35",
   "metadata": {},
   "source": [
    "### Релевантные графики"
   ]
  },
  {
   "cell_type": "markdown",
   "id": "b76a26c6-e2a3-46b6-bb9a-6894314cc9b8",
   "metadata": {},
   "source": [
    "#### График таргетной переменной"
   ]
  },
  {
   "cell_type": "code",
   "execution_count": 45,
   "id": "201b2252-cdb3-4a44-9225-54f784bbcf02",
   "metadata": {},
   "outputs": [
    {
     "data": {
      "image/png": "[encoded data removed]",
      "text/plain": [
       "<Figure size 1000x600 with 1 Axes>"
      ]
     },
     "metadata": {},
     "output_type": "display_data"
    }
   ],
   "source": [
    "plt.figure(figsize=(10, 6))\n",
    "sns.scatterplot(x='Number_of_Apps_Used', y='Daily_Screen_Time_Hours', data=df)\n",
    "plt.title('Distribution of Daily Screen Time')\n",
    "plt.xlabel('Number of Apps')\n",
    "plt.ylabel('Daily Usage Time (Hours)')\n",
    "plt.show()"
   ]
  },
  {
   "cell_type": "markdown",
   "id": "8c730167-59e2-4e2b-96fb-8431e6a2989b",
   "metadata": {},
   "source": [
    "Согласно распределению наблюдаем слабую зависимость между количеством приложений в телефоне пользователя от ежедневного использования смартфона. Однако небольшое увеличение все таки есть."
   ]
  },
  {
   "cell_type": "markdown",
   "id": "8a3104d8-ac4f-41bc-930d-38aabfd2f1c0",
   "metadata": {},
   "source": [
    "#### Матрица корреляций"
   ]
  },
  {
   "cell_type": "code",
   "execution_count": 48,
   "id": "a5fe20f6-a42a-4c1e-8ccb-b0b1652459b5",
   "metadata": {},
   "outputs": [
    {
     "data": {
      "text/html": [
       "<div>\n",
       "<style scoped>\n",
       "    .dataframe tbody tr th:only-of-type {\n",
       "        vertical-align: middle;\n",
       "    }\n",
       "\n",
       "    .dataframe tbody tr th {\n",
       "        vertical-align: top;\n",
       "    }\n",
       "\n",
       "    .dataframe thead th {\n",
       "        text-align: right;\n",
       "    }\n",
       "</style>\n",
       "<table border=\"1\" class=\"dataframe\">\n",
       "  <thead>\n",
       "    <tr style=\"text-align: right;\">\n",
       "      <th></th>\n",
       "      <th>User_ID</th>\n",
       "      <th>Age</th>\n",
       "      <th>Total_App_Usage_Hours</th>\n",
       "      <th>Daily_Screen_Time_Hours</th>\n",
       "      <th>Number_of_Apps_Used</th>\n",
       "      <th>Social_Media_Usage_Hours</th>\n",
       "      <th>Productivity_App_Usage_Hours</th>\n",
       "      <th>Gaming_App_Usage_Hours</th>\n",
       "      <th>Daily_Screen_Time_Hours_bool</th>\n",
       "    </tr>\n",
       "  </thead>\n",
       "  <tbody>\n",
       "    <tr>\n",
       "      <th>User_ID</th>\n",
       "      <td>1.000000</td>\n",
       "      <td>-0.028576</td>\n",
       "      <td>-0.010570</td>\n",
       "      <td>0.020941</td>\n",
       "      <td>-0.001214</td>\n",
       "      <td>-0.002608</td>\n",
       "      <td>0.002207</td>\n",
       "      <td>-0.003514</td>\n",
       "      <td>0.024233</td>\n",
       "    </tr>\n",
       "    <tr>\n",
       "      <th>Age</th>\n",
       "      <td>-0.028576</td>\n",
       "      <td>1.000000</td>\n",
       "      <td>-0.003319</td>\n",
       "      <td>-0.017639</td>\n",
       "      <td>-0.002081</td>\n",
       "      <td>-0.008324</td>\n",
       "      <td>0.005848</td>\n",
       "      <td>-0.012969</td>\n",
       "      <td>-0.022174</td>\n",
       "    </tr>\n",
       "    <tr>\n",
       "      <th>Total_App_Usage_Hours</th>\n",
       "      <td>-0.010570</td>\n",
       "      <td>-0.003319</td>\n",
       "      <td>1.000000</td>\n",
       "      <td>0.002948</td>\n",
       "      <td>0.041493</td>\n",
       "      <td>0.019330</td>\n",
       "      <td>-0.009983</td>\n",
       "      <td>-0.067770</td>\n",
       "      <td>0.011893</td>\n",
       "    </tr>\n",
       "    <tr>\n",
       "      <th>Daily_Screen_Time_Hours</th>\n",
       "      <td>0.020941</td>\n",
       "      <td>-0.017639</td>\n",
       "      <td>0.002948</td>\n",
       "      <td>1.000000</td>\n",
       "      <td>0.016835</td>\n",
       "      <td>0.031773</td>\n",
       "      <td>0.033206</td>\n",
       "      <td>-0.012984</td>\n",
       "      <td>0.738855</td>\n",
       "    </tr>\n",
       "    <tr>\n",
       "      <th>Number_of_Apps_Used</th>\n",
       "      <td>-0.001214</td>\n",
       "      <td>-0.002081</td>\n",
       "      <td>0.041493</td>\n",
       "      <td>0.016835</td>\n",
       "      <td>1.000000</td>\n",
       "      <td>0.017789</td>\n",
       "      <td>-0.007814</td>\n",
       "      <td>0.019468</td>\n",
       "      <td>-0.020260</td>\n",
       "    </tr>\n",
       "    <tr>\n",
       "      <th>Social_Media_Usage_Hours</th>\n",
       "      <td>-0.002608</td>\n",
       "      <td>-0.008324</td>\n",
       "      <td>0.019330</td>\n",
       "      <td>0.031773</td>\n",
       "      <td>0.017789</td>\n",
       "      <td>1.000000</td>\n",
       "      <td>-0.076456</td>\n",
       "      <td>0.006217</td>\n",
       "      <td>0.009415</td>\n",
       "    </tr>\n",
       "    <tr>\n",
       "      <th>Productivity_App_Usage_Hours</th>\n",
       "      <td>0.002207</td>\n",
       "      <td>0.005848</td>\n",
       "      <td>-0.009983</td>\n",
       "      <td>0.033206</td>\n",
       "      <td>-0.007814</td>\n",
       "      <td>-0.076456</td>\n",
       "      <td>1.000000</td>\n",
       "      <td>0.027217</td>\n",
       "      <td>0.031553</td>\n",
       "    </tr>\n",
       "    <tr>\n",
       "      <th>Gaming_App_Usage_Hours</th>\n",
       "      <td>-0.003514</td>\n",
       "      <td>-0.012969</td>\n",
       "      <td>-0.067770</td>\n",
       "      <td>-0.012984</td>\n",
       "      <td>0.019468</td>\n",
       "      <td>0.006217</td>\n",
       "      <td>0.027217</td>\n",
       "      <td>1.000000</td>\n",
       "      <td>0.003370</td>\n",
       "    </tr>\n",
       "    <tr>\n",
       "      <th>Daily_Screen_Time_Hours_bool</th>\n",
       "      <td>0.024233</td>\n",
       "      <td>-0.022174</td>\n",
       "      <td>0.011893</td>\n",
       "      <td>0.738855</td>\n",
       "      <td>-0.020260</td>\n",
       "      <td>0.009415</td>\n",
       "      <td>0.031553</td>\n",
       "      <td>0.003370</td>\n",
       "      <td>1.000000</td>\n",
       "    </tr>\n",
       "  </tbody>\n",
       "</table>\n",
       "</div>"
      ],
      "text/plain": [
       "                               User_ID       Age  Total_App_Usage_Hours  \\\n",
       "User_ID                       1.000000 -0.028576              -0.010570   \n",
       "Age                          -0.028576  1.000000              -0.003319   \n",
       "Total_App_Usage_Hours        -0.010570 -0.003319               1.000000   \n",
       "Daily_Screen_Time_Hours       0.020941 -0.017639               0.002948   \n",
       "Number_of_Apps_Used          -0.001214 -0.002081               0.041493   \n",
       "Social_Media_Usage_Hours     -0.002608 -0.008324               0.019330   \n",
       "Productivity_App_Usage_Hours  0.002207  0.005848              -0.009983   \n",
       "Gaming_App_Usage_Hours       -0.003514 -0.012969              -0.067770   \n",
       "Daily_Screen_Time_Hours_bool  0.024233 -0.022174               0.011893   \n",
       "\n",
       "                              Daily_Screen_Time_Hours  Number_of_Apps_Used  \\\n",
       "User_ID                                      0.020941            -0.001214   \n",
       "Age                                         -0.017639            -0.002081   \n",
       "Total_App_Usage_Hours                        0.002948             0.041493   \n",
       "Daily_Screen_Time_Hours                      1.000000             0.016835   \n",
       "Number_of_Apps_Used                          0.016835             1.000000   \n",
       "Social_Media_Usage_Hours                     0.031773             0.017789   \n",
       "Productivity_App_Usage_Hours                 0.033206            -0.007814   \n",
       "Gaming_App_Usage_Hours                      -0.012984             0.019468   \n",
       "Daily_Screen_Time_Hours_bool                 0.738855            -0.020260   \n",
       "\n",
       "                              Social_Media_Usage_Hours  \\\n",
       "User_ID                                      -0.002608   \n",
       "Age                                          -0.008324   \n",
       "Total_App_Usage_Hours                         0.019330   \n",
       "Daily_Screen_Time_Hours                       0.031773   \n",
       "Number_of_Apps_Used                           0.017789   \n",
       "Social_Media_Usage_Hours                      1.000000   \n",
       "Productivity_App_Usage_Hours                 -0.076456   \n",
       "Gaming_App_Usage_Hours                        0.006217   \n",
       "Daily_Screen_Time_Hours_bool                  0.009415   \n",
       "\n",
       "                              Productivity_App_Usage_Hours  \\\n",
       "User_ID                                           0.002207   \n",
       "Age                                               0.005848   \n",
       "Total_App_Usage_Hours                            -0.009983   \n",
       "Daily_Screen_Time_Hours                           0.033206   \n",
       "Number_of_Apps_Used                              -0.007814   \n",
       "Social_Media_Usage_Hours                         -0.076456   \n",
       "Productivity_App_Usage_Hours                      1.000000   \n",
       "Gaming_App_Usage_Hours                            0.027217   \n",
       "Daily_Screen_Time_Hours_bool                      0.031553   \n",
       "\n",
       "                              Gaming_App_Usage_Hours  \\\n",
       "User_ID                                    -0.003514   \n",
       "Age                                        -0.012969   \n",
       "Total_App_Usage_Hours                      -0.067770   \n",
       "Daily_Screen_Time_Hours                    -0.012984   \n",
       "Number_of_Apps_Used                         0.019468   \n",
       "Social_Media_Usage_Hours                    0.006217   \n",
       "Productivity_App_Usage_Hours                0.027217   \n",
       "Gaming_App_Usage_Hours                      1.000000   \n",
       "Daily_Screen_Time_Hours_bool                0.003370   \n",
       "\n",
       "                              Daily_Screen_Time_Hours_bool  \n",
       "User_ID                                           0.024233  \n",
       "Age                                              -0.022174  \n",
       "Total_App_Usage_Hours                             0.011893  \n",
       "Daily_Screen_Time_Hours                           0.738855  \n",
       "Number_of_Apps_Used                              -0.020260  \n",
       "Social_Media_Usage_Hours                          0.009415  \n",
       "Productivity_App_Usage_Hours                      0.031553  \n",
       "Gaming_App_Usage_Hours                            0.003370  \n",
       "Daily_Screen_Time_Hours_bool                      1.000000  "
      ]
     },
     "execution_count": 48,
     "metadata": {},
     "output_type": "execute_result"
    }
   ],
   "source": [
    "corr_matrix = df.corr(numeric_only=True)\n",
    "corr_matrix"
   ]
  },
  {
   "cell_type": "code",
   "execution_count": 49,
   "id": "8afedf64-d19a-43c5-9d2e-09b97f2b7dd1",
   "metadata": {},
   "outputs": [
    {
     "data": {
      "text/plain": [
       "<Axes: >"
      ]
     },
     "execution_count": 49,
     "metadata": {},
     "output_type": "execute_result"
    },
    {
     "data": {
      "image/png": "[encoded data removed]",
      "text/plain": [
       "<Figure size 2000x2000 with 2 Axes>"
      ]
     },
     "metadata": {},
     "output_type": "display_data"
    }
   ],
   "source": [
    "plt.figure(figsize=(20,20))\n",
    "sns.heatmap(corr_matrix, annot=True, cmap='pink')"
   ]
  },
  {
   "cell_type": "code",
   "execution_count": 50,
   "id": "6ae9e635-d32a-4f9c-a4de-726958874412",
   "metadata": {},
   "outputs": [
    {
     "data": {
      "text/html": [
       "<div>\n",
       "<style scoped>\n",
       "    .dataframe tbody tr th:only-of-type {\n",
       "        vertical-align: middle;\n",
       "    }\n",
       "\n",
       "    .dataframe tbody tr th {\n",
       "        vertical-align: top;\n",
       "    }\n",
       "\n",
       "    .dataframe thead th {\n",
       "        text-align: right;\n",
       "    }\n",
       "</style>\n",
       "<table border=\"1\" class=\"dataframe\">\n",
       "  <thead>\n",
       "    <tr style=\"text-align: right;\">\n",
       "      <th></th>\n",
       "      <th>Var1</th>\n",
       "      <th>Var2</th>\n",
       "      <th>Correlation</th>\n",
       "    </tr>\n",
       "  </thead>\n",
       "  <tbody>\n",
       "    <tr>\n",
       "      <th>0</th>\n",
       "      <td>Daily_Screen_Time_Hours</td>\n",
       "      <td>Daily_Screen_Time_Hours_bool</td>\n",
       "      <td>0.738855</td>\n",
       "    </tr>\n",
       "    <tr>\n",
       "      <th>1</th>\n",
       "      <td>Daily_Screen_Time_Hours_bool</td>\n",
       "      <td>Daily_Screen_Time_Hours</td>\n",
       "      <td>0.738855</td>\n",
       "    </tr>\n",
       "  </tbody>\n",
       "</table>\n",
       "</div>"
      ],
      "text/plain": [
       "                           Var1                          Var2  Correlation\n",
       "0       Daily_Screen_Time_Hours  Daily_Screen_Time_Hours_bool     0.738855\n",
       "1  Daily_Screen_Time_Hours_bool       Daily_Screen_Time_Hours     0.738855"
      ]
     },
     "execution_count": 50,
     "metadata": {},
     "output_type": "execute_result"
    }
   ],
   "source": [
    "threshold = 0.5\n",
    "correlation_pairs = (\n",
    "    corr_matrix.where((corr_matrix > threshold) & (corr_matrix < 1))\n",
    "    .stack()\n",
    "    .reset_index()\n",
    ")\n",
    "correlation_pairs.columns = ['Var1', 'Var2', 'Correlation']\n",
    "correlation_pairs"
   ]
  },
  {
   "cell_type": "markdown",
   "id": "dc6e49c0-6de1-467a-b3fc-87d2057dc4e0",
   "metadata": {},
   "source": [
    "Вывод: нет сильной корреляции между переменными."
   ]
  },
  {
   "cell_type": "markdown",
   "id": "8bd9b67f-32d2-491d-9316-cfd8ba585f9a",
   "metadata": {},
   "source": [
    "### Срезы данных"
   ]
  },
  {
   "cell_type": "code",
   "execution_count": 53,
   "id": "2d6a6042-d16e-40fb-9860-f48dfd770a35",
   "metadata": {},
   "outputs": [
    {
     "data": {
      "text/html": [
       "<div>\n",
       "<style scoped>\n",
       "    .dataframe tbody tr th:only-of-type {\n",
       "        vertical-align: middle;\n",
       "    }\n",
       "\n",
       "    .dataframe tbody tr th {\n",
       "        vertical-align: top;\n",
       "    }\n",
       "\n",
       "    .dataframe thead th {\n",
       "        text-align: right;\n",
       "    }\n",
       "</style>\n",
       "<table border=\"1\" class=\"dataframe\">\n",
       "  <thead>\n",
       "    <tr style=\"text-align: right;\">\n",
       "      <th></th>\n",
       "      <th>User_ID</th>\n",
       "      <th>Age</th>\n",
       "      <th>Gender</th>\n",
       "      <th>Total_App_Usage_Hours</th>\n",
       "      <th>Daily_Screen_Time_Hours</th>\n",
       "      <th>Number_of_Apps_Used</th>\n",
       "      <th>Social_Media_Usage_Hours</th>\n",
       "      <th>Productivity_App_Usage_Hours</th>\n",
       "      <th>Gaming_App_Usage_Hours</th>\n",
       "      <th>Location</th>\n",
       "      <th>Daily_Screen_Time_Hours_bool</th>\n",
       "    </tr>\n",
       "  </thead>\n",
       "  <tbody>\n",
       "    <tr>\n",
       "      <th>216</th>\n",
       "      <td>217</td>\n",
       "      <td>36</td>\n",
       "      <td>Male</td>\n",
       "      <td>5.89</td>\n",
       "      <td>8.32</td>\n",
       "      <td>29</td>\n",
       "      <td>3.16</td>\n",
       "      <td>2.25</td>\n",
       "      <td>1.76</td>\n",
       "      <td>Los Angeles</td>\n",
       "      <td>1</td>\n",
       "    </tr>\n",
       "  </tbody>\n",
       "</table>\n",
       "</div>"
      ],
      "text/plain": [
       "     User_ID  Age Gender  Total_App_Usage_Hours  Daily_Screen_Time_Hours  \\\n",
       "216      217   36   Male                   5.89                     8.32   \n",
       "\n",
       "     Number_of_Apps_Used  Social_Media_Usage_Hours  \\\n",
       "216                   29                      3.16   \n",
       "\n",
       "     Productivity_App_Usage_Hours  Gaming_App_Usage_Hours     Location  \\\n",
       "216                          2.25                    1.76  Los Angeles   \n",
       "\n",
       "     Daily_Screen_Time_Hours_bool  \n",
       "216                             1  "
      ]
     },
     "execution_count": 53,
     "metadata": {},
     "output_type": "execute_result"
    }
   ],
   "source": [
    "df.sample()"
   ]
  },
  {
   "cell_type": "code",
   "execution_count": 54,
   "id": "0b0af5fc-5f3b-4ec0-9bb1-f78b69a3f4e6",
   "metadata": {},
   "outputs": [
    {
     "data": {
      "text/html": [
       "<div>\n",
       "<style scoped>\n",
       "    .dataframe tbody tr th:only-of-type {\n",
       "        vertical-align: middle;\n",
       "    }\n",
       "\n",
       "    .dataframe tbody tr th {\n",
       "        vertical-align: top;\n",
       "    }\n",
       "\n",
       "    .dataframe thead th {\n",
       "        text-align: right;\n",
       "    }\n",
       "</style>\n",
       "<table border=\"1\" class=\"dataframe\">\n",
       "  <thead>\n",
       "    <tr style=\"text-align: right;\">\n",
       "      <th></th>\n",
       "      <th>User_ID</th>\n",
       "      <th>Age</th>\n",
       "      <th>Gender</th>\n",
       "      <th>Total_App_Usage_Hours</th>\n",
       "      <th>Daily_Screen_Time_Hours</th>\n",
       "      <th>Number_of_Apps_Used</th>\n",
       "      <th>Social_Media_Usage_Hours</th>\n",
       "      <th>Productivity_App_Usage_Hours</th>\n",
       "      <th>Gaming_App_Usage_Hours</th>\n",
       "      <th>Location</th>\n",
       "      <th>Daily_Screen_Time_Hours_bool</th>\n",
       "    </tr>\n",
       "  </thead>\n",
       "  <tbody>\n",
       "    <tr>\n",
       "      <th>543</th>\n",
       "      <td>544</td>\n",
       "      <td>28</td>\n",
       "      <td>Male</td>\n",
       "      <td>11.74</td>\n",
       "      <td>11.20</td>\n",
       "      <td>29</td>\n",
       "      <td>0.48</td>\n",
       "      <td>1.21</td>\n",
       "      <td>3.83</td>\n",
       "      <td>New York</td>\n",
       "      <td>1</td>\n",
       "    </tr>\n",
       "    <tr>\n",
       "      <th>812</th>\n",
       "      <td>813</td>\n",
       "      <td>56</td>\n",
       "      <td>Female</td>\n",
       "      <td>5.97</td>\n",
       "      <td>6.01</td>\n",
       "      <td>13</td>\n",
       "      <td>2.53</td>\n",
       "      <td>2.24</td>\n",
       "      <td>3.31</td>\n",
       "      <td>Chicago</td>\n",
       "      <td>1</td>\n",
       "    </tr>\n",
       "    <tr>\n",
       "      <th>715</th>\n",
       "      <td>716</td>\n",
       "      <td>55</td>\n",
       "      <td>Female</td>\n",
       "      <td>1.63</td>\n",
       "      <td>13.50</td>\n",
       "      <td>26</td>\n",
       "      <td>1.35</td>\n",
       "      <td>3.58</td>\n",
       "      <td>2.91</td>\n",
       "      <td>Phoenix</td>\n",
       "      <td>1</td>\n",
       "    </tr>\n",
       "    <tr>\n",
       "      <th>275</th>\n",
       "      <td>276</td>\n",
       "      <td>50</td>\n",
       "      <td>Female</td>\n",
       "      <td>1.03</td>\n",
       "      <td>8.14</td>\n",
       "      <td>13</td>\n",
       "      <td>2.83</td>\n",
       "      <td>1.13</td>\n",
       "      <td>4.18</td>\n",
       "      <td>Phoenix</td>\n",
       "      <td>1</td>\n",
       "    </tr>\n",
       "    <tr>\n",
       "      <th>52</th>\n",
       "      <td>53</td>\n",
       "      <td>57</td>\n",
       "      <td>Male</td>\n",
       "      <td>5.77</td>\n",
       "      <td>12.22</td>\n",
       "      <td>16</td>\n",
       "      <td>2.09</td>\n",
       "      <td>4.55</td>\n",
       "      <td>3.42</td>\n",
       "      <td>Phoenix</td>\n",
       "      <td>1</td>\n",
       "    </tr>\n",
       "  </tbody>\n",
       "</table>\n",
       "</div>"
      ],
      "text/plain": [
       "     User_ID  Age  Gender  Total_App_Usage_Hours  Daily_Screen_Time_Hours  \\\n",
       "543      544   28    Male                  11.74                    11.20   \n",
       "812      813   56  Female                   5.97                     6.01   \n",
       "715      716   55  Female                   1.63                    13.50   \n",
       "275      276   50  Female                   1.03                     8.14   \n",
       "52        53   57    Male                   5.77                    12.22   \n",
       "\n",
       "     Number_of_Apps_Used  Social_Media_Usage_Hours  \\\n",
       "543                   29                      0.48   \n",
       "812                   13                      2.53   \n",
       "715                   26                      1.35   \n",
       "275                   13                      2.83   \n",
       "52                    16                      2.09   \n",
       "\n",
       "     Productivity_App_Usage_Hours  Gaming_App_Usage_Hours  Location  \\\n",
       "543                          1.21                    3.83  New York   \n",
       "812                          2.24                    3.31   Chicago   \n",
       "715                          3.58                    2.91   Phoenix   \n",
       "275                          1.13                    4.18   Phoenix   \n",
       "52                           4.55                    3.42   Phoenix   \n",
       "\n",
       "     Daily_Screen_Time_Hours_bool  \n",
       "543                             1  \n",
       "812                             1  \n",
       "715                             1  \n",
       "275                             1  \n",
       "52                              1  "
      ]
     },
     "execution_count": 54,
     "metadata": {},
     "output_type": "execute_result"
    }
   ],
   "source": [
    "df.sample(5)"
   ]
  },
  {
   "cell_type": "code",
   "execution_count": 55,
   "id": "fa095066-807f-45cc-9709-c0f4d88d9def",
   "metadata": {},
   "outputs": [
    {
     "data": {
      "text/html": [
       "<div>\n",
       "<style scoped>\n",
       "    .dataframe tbody tr th:only-of-type {\n",
       "        vertical-align: middle;\n",
       "    }\n",
       "\n",
       "    .dataframe tbody tr th {\n",
       "        vertical-align: top;\n",
       "    }\n",
       "\n",
       "    .dataframe thead th {\n",
       "        text-align: right;\n",
       "    }\n",
       "</style>\n",
       "<table border=\"1\" class=\"dataframe\">\n",
       "  <thead>\n",
       "    <tr style=\"text-align: right;\">\n",
       "      <th></th>\n",
       "      <th>User_ID</th>\n",
       "      <th>Age</th>\n",
       "      <th>Gender</th>\n",
       "      <th>Total_App_Usage_Hours</th>\n",
       "      <th>Daily_Screen_Time_Hours</th>\n",
       "      <th>Number_of_Apps_Used</th>\n",
       "      <th>Social_Media_Usage_Hours</th>\n",
       "      <th>Productivity_App_Usage_Hours</th>\n",
       "      <th>Gaming_App_Usage_Hours</th>\n",
       "      <th>Location</th>\n",
       "      <th>Daily_Screen_Time_Hours_bool</th>\n",
       "    </tr>\n",
       "  </thead>\n",
       "  <tbody>\n",
       "    <tr>\n",
       "      <th>0</th>\n",
       "      <td>1</td>\n",
       "      <td>56</td>\n",
       "      <td>Male</td>\n",
       "      <td>2.61</td>\n",
       "      <td>7.15</td>\n",
       "      <td>24</td>\n",
       "      <td>4.43</td>\n",
       "      <td>0.55</td>\n",
       "      <td>2.40</td>\n",
       "      <td>Los Angeles</td>\n",
       "      <td>1</td>\n",
       "    </tr>\n",
       "    <tr>\n",
       "      <th>1</th>\n",
       "      <td>2</td>\n",
       "      <td>46</td>\n",
       "      <td>Male</td>\n",
       "      <td>2.13</td>\n",
       "      <td>13.79</td>\n",
       "      <td>18</td>\n",
       "      <td>4.67</td>\n",
       "      <td>4.42</td>\n",
       "      <td>2.43</td>\n",
       "      <td>Chicago</td>\n",
       "      <td>1</td>\n",
       "    </tr>\n",
       "    <tr>\n",
       "      <th>2</th>\n",
       "      <td>3</td>\n",
       "      <td>32</td>\n",
       "      <td>Female</td>\n",
       "      <td>7.28</td>\n",
       "      <td>4.50</td>\n",
       "      <td>11</td>\n",
       "      <td>4.58</td>\n",
       "      <td>1.71</td>\n",
       "      <td>2.83</td>\n",
       "      <td>Houston</td>\n",
       "      <td>1</td>\n",
       "    </tr>\n",
       "    <tr>\n",
       "      <th>3</th>\n",
       "      <td>4</td>\n",
       "      <td>25</td>\n",
       "      <td>Female</td>\n",
       "      <td>1.20</td>\n",
       "      <td>6.29</td>\n",
       "      <td>21</td>\n",
       "      <td>3.18</td>\n",
       "      <td>3.42</td>\n",
       "      <td>4.58</td>\n",
       "      <td>Phoenix</td>\n",
       "      <td>1</td>\n",
       "    </tr>\n",
       "    <tr>\n",
       "      <th>4</th>\n",
       "      <td>5</td>\n",
       "      <td>38</td>\n",
       "      <td>Male</td>\n",
       "      <td>6.31</td>\n",
       "      <td>12.59</td>\n",
       "      <td>14</td>\n",
       "      <td>3.15</td>\n",
       "      <td>0.13</td>\n",
       "      <td>4.00</td>\n",
       "      <td>New York</td>\n",
       "      <td>1</td>\n",
       "    </tr>\n",
       "  </tbody>\n",
       "</table>\n",
       "</div>"
      ],
      "text/plain": [
       "   User_ID  Age  Gender  Total_App_Usage_Hours  Daily_Screen_Time_Hours  \\\n",
       "0        1   56    Male                   2.61                     7.15   \n",
       "1        2   46    Male                   2.13                    13.79   \n",
       "2        3   32  Female                   7.28                     4.50   \n",
       "3        4   25  Female                   1.20                     6.29   \n",
       "4        5   38    Male                   6.31                    12.59   \n",
       "\n",
       "   Number_of_Apps_Used  Social_Media_Usage_Hours  \\\n",
       "0                   24                      4.43   \n",
       "1                   18                      4.67   \n",
       "2                   11                      4.58   \n",
       "3                   21                      3.18   \n",
       "4                   14                      3.15   \n",
       "\n",
       "   Productivity_App_Usage_Hours  Gaming_App_Usage_Hours     Location  \\\n",
       "0                          0.55                    2.40  Los Angeles   \n",
       "1                          4.42                    2.43      Chicago   \n",
       "2                          1.71                    2.83      Houston   \n",
       "3                          3.42                    4.58      Phoenix   \n",
       "4                          0.13                    4.00     New York   \n",
       "\n",
       "   Daily_Screen_Time_Hours_bool  \n",
       "0                             1  \n",
       "1                             1  \n",
       "2                             1  \n",
       "3                             1  \n",
       "4                             1  "
      ]
     },
     "execution_count": 55,
     "metadata": {},
     "output_type": "execute_result"
    }
   ],
   "source": [
    "df.head()"
   ]
  },
  {
   "cell_type": "code",
   "execution_count": 56,
   "id": "e11b9ece-5ac5-4ce7-9586-e86cc3b22c63",
   "metadata": {},
   "outputs": [
    {
     "data": {
      "text/html": [
       "<div>\n",
       "<style scoped>\n",
       "    .dataframe tbody tr th:only-of-type {\n",
       "        vertical-align: middle;\n",
       "    }\n",
       "\n",
       "    .dataframe tbody tr th {\n",
       "        vertical-align: top;\n",
       "    }\n",
       "\n",
       "    .dataframe thead th {\n",
       "        text-align: right;\n",
       "    }\n",
       "</style>\n",
       "<table border=\"1\" class=\"dataframe\">\n",
       "  <thead>\n",
       "    <tr style=\"text-align: right;\">\n",
       "      <th></th>\n",
       "      <th>User_ID</th>\n",
       "      <th>Age</th>\n",
       "      <th>Gender</th>\n",
       "      <th>Total_App_Usage_Hours</th>\n",
       "      <th>Daily_Screen_Time_Hours</th>\n",
       "      <th>Number_of_Apps_Used</th>\n",
       "      <th>Social_Media_Usage_Hours</th>\n",
       "      <th>Productivity_App_Usage_Hours</th>\n",
       "      <th>Gaming_App_Usage_Hours</th>\n",
       "      <th>Location</th>\n",
       "      <th>Daily_Screen_Time_Hours_bool</th>\n",
       "    </tr>\n",
       "  </thead>\n",
       "  <tbody>\n",
       "    <tr>\n",
       "      <th>995</th>\n",
       "      <td>996</td>\n",
       "      <td>41</td>\n",
       "      <td>Female</td>\n",
       "      <td>3.58</td>\n",
       "      <td>12.46</td>\n",
       "      <td>13</td>\n",
       "      <td>4.12</td>\n",
       "      <td>2.44</td>\n",
       "      <td>1.33</td>\n",
       "      <td>Los Angeles</td>\n",
       "      <td>1</td>\n",
       "    </tr>\n",
       "    <tr>\n",
       "      <th>996</th>\n",
       "      <td>997</td>\n",
       "      <td>32</td>\n",
       "      <td>Male</td>\n",
       "      <td>9.65</td>\n",
       "      <td>10.51</td>\n",
       "      <td>11</td>\n",
       "      <td>1.02</td>\n",
       "      <td>1.02</td>\n",
       "      <td>3.84</td>\n",
       "      <td>Los Angeles</td>\n",
       "      <td>1</td>\n",
       "    </tr>\n",
       "    <tr>\n",
       "      <th>997</th>\n",
       "      <td>998</td>\n",
       "      <td>46</td>\n",
       "      <td>Female</td>\n",
       "      <td>11.68</td>\n",
       "      <td>10.06</td>\n",
       "      <td>9</td>\n",
       "      <td>2.35</td>\n",
       "      <td>3.13</td>\n",
       "      <td>1.03</td>\n",
       "      <td>Phoenix</td>\n",
       "      <td>1</td>\n",
       "    </tr>\n",
       "    <tr>\n",
       "      <th>998</th>\n",
       "      <td>999</td>\n",
       "      <td>25</td>\n",
       "      <td>Male</td>\n",
       "      <td>3.89</td>\n",
       "      <td>10.78</td>\n",
       "      <td>15</td>\n",
       "      <td>4.00</td>\n",
       "      <td>1.79</td>\n",
       "      <td>1.61</td>\n",
       "      <td>Phoenix</td>\n",
       "      <td>1</td>\n",
       "    </tr>\n",
       "    <tr>\n",
       "      <th>999</th>\n",
       "      <td>1000</td>\n",
       "      <td>22</td>\n",
       "      <td>Female</td>\n",
       "      <td>3.99</td>\n",
       "      <td>7.05</td>\n",
       "      <td>4</td>\n",
       "      <td>0.90</td>\n",
       "      <td>4.98</td>\n",
       "      <td>2.33</td>\n",
       "      <td>Phoenix</td>\n",
       "      <td>1</td>\n",
       "    </tr>\n",
       "  </tbody>\n",
       "</table>\n",
       "</div>"
      ],
      "text/plain": [
       "     User_ID  Age  Gender  Total_App_Usage_Hours  Daily_Screen_Time_Hours  \\\n",
       "995      996   41  Female                   3.58                    12.46   \n",
       "996      997   32    Male                   9.65                    10.51   \n",
       "997      998   46  Female                  11.68                    10.06   \n",
       "998      999   25    Male                   3.89                    10.78   \n",
       "999     1000   22  Female                   3.99                     7.05   \n",
       "\n",
       "     Number_of_Apps_Used  Social_Media_Usage_Hours  \\\n",
       "995                   13                      4.12   \n",
       "996                   11                      1.02   \n",
       "997                    9                      2.35   \n",
       "998                   15                      4.00   \n",
       "999                    4                      0.90   \n",
       "\n",
       "     Productivity_App_Usage_Hours  Gaming_App_Usage_Hours     Location  \\\n",
       "995                          2.44                    1.33  Los Angeles   \n",
       "996                          1.02                    3.84  Los Angeles   \n",
       "997                          3.13                    1.03      Phoenix   \n",
       "998                          1.79                    1.61      Phoenix   \n",
       "999                          4.98                    2.33      Phoenix   \n",
       "\n",
       "     Daily_Screen_Time_Hours_bool  \n",
       "995                             1  \n",
       "996                             1  \n",
       "997                             1  \n",
       "998                             1  \n",
       "999                             1  "
      ]
     },
     "execution_count": 56,
     "metadata": {},
     "output_type": "execute_result"
    }
   ],
   "source": [
    "df.tail()"
   ]
  },
  {
   "cell_type": "code",
   "execution_count": 57,
   "id": "e0e375d1-3c18-42a0-a744-c47bc43c9068",
   "metadata": {},
   "outputs": [
    {
     "data": {
      "text/html": [
       "<div>\n",
       "<style scoped>\n",
       "    .dataframe tbody tr th:only-of-type {\n",
       "        vertical-align: middle;\n",
       "    }\n",
       "\n",
       "    .dataframe tbody tr th {\n",
       "        vertical-align: top;\n",
       "    }\n",
       "\n",
       "    .dataframe thead th {\n",
       "        text-align: right;\n",
       "    }\n",
       "</style>\n",
       "<table border=\"1\" class=\"dataframe\">\n",
       "  <thead>\n",
       "    <tr style=\"text-align: right;\">\n",
       "      <th></th>\n",
       "      <th>User_ID</th>\n",
       "      <th>Age</th>\n",
       "      <th>Gender</th>\n",
       "      <th>Total_App_Usage_Hours</th>\n",
       "      <th>Daily_Screen_Time_Hours</th>\n",
       "      <th>Number_of_Apps_Used</th>\n",
       "      <th>Social_Media_Usage_Hours</th>\n",
       "      <th>Productivity_App_Usage_Hours</th>\n",
       "      <th>Gaming_App_Usage_Hours</th>\n",
       "      <th>Location</th>\n",
       "      <th>Daily_Screen_Time_Hours_bool</th>\n",
       "    </tr>\n",
       "  </thead>\n",
       "  <tbody>\n",
       "    <tr>\n",
       "      <th>0</th>\n",
       "      <td>1</td>\n",
       "      <td>56</td>\n",
       "      <td>Male</td>\n",
       "      <td>2.61</td>\n",
       "      <td>7.15</td>\n",
       "      <td>24</td>\n",
       "      <td>4.43</td>\n",
       "      <td>0.55</td>\n",
       "      <td>2.40</td>\n",
       "      <td>Los Angeles</td>\n",
       "      <td>1</td>\n",
       "    </tr>\n",
       "    <tr>\n",
       "      <th>1</th>\n",
       "      <td>2</td>\n",
       "      <td>46</td>\n",
       "      <td>Male</td>\n",
       "      <td>2.13</td>\n",
       "      <td>13.79</td>\n",
       "      <td>18</td>\n",
       "      <td>4.67</td>\n",
       "      <td>4.42</td>\n",
       "      <td>2.43</td>\n",
       "      <td>Chicago</td>\n",
       "      <td>1</td>\n",
       "    </tr>\n",
       "    <tr>\n",
       "      <th>2</th>\n",
       "      <td>3</td>\n",
       "      <td>32</td>\n",
       "      <td>Female</td>\n",
       "      <td>7.28</td>\n",
       "      <td>4.50</td>\n",
       "      <td>11</td>\n",
       "      <td>4.58</td>\n",
       "      <td>1.71</td>\n",
       "      <td>2.83</td>\n",
       "      <td>Houston</td>\n",
       "      <td>1</td>\n",
       "    </tr>\n",
       "    <tr>\n",
       "      <th>3</th>\n",
       "      <td>4</td>\n",
       "      <td>25</td>\n",
       "      <td>Female</td>\n",
       "      <td>1.20</td>\n",
       "      <td>6.29</td>\n",
       "      <td>21</td>\n",
       "      <td>3.18</td>\n",
       "      <td>3.42</td>\n",
       "      <td>4.58</td>\n",
       "      <td>Phoenix</td>\n",
       "      <td>1</td>\n",
       "    </tr>\n",
       "    <tr>\n",
       "      <th>4</th>\n",
       "      <td>5</td>\n",
       "      <td>38</td>\n",
       "      <td>Male</td>\n",
       "      <td>6.31</td>\n",
       "      <td>12.59</td>\n",
       "      <td>14</td>\n",
       "      <td>3.15</td>\n",
       "      <td>0.13</td>\n",
       "      <td>4.00</td>\n",
       "      <td>New York</td>\n",
       "      <td>1</td>\n",
       "    </tr>\n",
       "    <tr>\n",
       "      <th>...</th>\n",
       "      <td>...</td>\n",
       "      <td>...</td>\n",
       "      <td>...</td>\n",
       "      <td>...</td>\n",
       "      <td>...</td>\n",
       "      <td>...</td>\n",
       "      <td>...</td>\n",
       "      <td>...</td>\n",
       "      <td>...</td>\n",
       "      <td>...</td>\n",
       "      <td>...</td>\n",
       "    </tr>\n",
       "    <tr>\n",
       "      <th>995</th>\n",
       "      <td>996</td>\n",
       "      <td>41</td>\n",
       "      <td>Female</td>\n",
       "      <td>3.58</td>\n",
       "      <td>12.46</td>\n",
       "      <td>13</td>\n",
       "      <td>4.12</td>\n",
       "      <td>2.44</td>\n",
       "      <td>1.33</td>\n",
       "      <td>Los Angeles</td>\n",
       "      <td>1</td>\n",
       "    </tr>\n",
       "    <tr>\n",
       "      <th>996</th>\n",
       "      <td>997</td>\n",
       "      <td>32</td>\n",
       "      <td>Male</td>\n",
       "      <td>9.65</td>\n",
       "      <td>10.51</td>\n",
       "      <td>11</td>\n",
       "      <td>1.02</td>\n",
       "      <td>1.02</td>\n",
       "      <td>3.84</td>\n",
       "      <td>Los Angeles</td>\n",
       "      <td>1</td>\n",
       "    </tr>\n",
       "    <tr>\n",
       "      <th>997</th>\n",
       "      <td>998</td>\n",
       "      <td>46</td>\n",
       "      <td>Female</td>\n",
       "      <td>11.68</td>\n",
       "      <td>10.06</td>\n",
       "      <td>9</td>\n",
       "      <td>2.35</td>\n",
       "      <td>3.13</td>\n",
       "      <td>1.03</td>\n",
       "      <td>Phoenix</td>\n",
       "      <td>1</td>\n",
       "    </tr>\n",
       "    <tr>\n",
       "      <th>998</th>\n",
       "      <td>999</td>\n",
       "      <td>25</td>\n",
       "      <td>Male</td>\n",
       "      <td>3.89</td>\n",
       "      <td>10.78</td>\n",
       "      <td>15</td>\n",
       "      <td>4.00</td>\n",
       "      <td>1.79</td>\n",
       "      <td>1.61</td>\n",
       "      <td>Phoenix</td>\n",
       "      <td>1</td>\n",
       "    </tr>\n",
       "    <tr>\n",
       "      <th>999</th>\n",
       "      <td>1000</td>\n",
       "      <td>22</td>\n",
       "      <td>Female</td>\n",
       "      <td>3.99</td>\n",
       "      <td>7.05</td>\n",
       "      <td>4</td>\n",
       "      <td>0.90</td>\n",
       "      <td>4.98</td>\n",
       "      <td>2.33</td>\n",
       "      <td>Phoenix</td>\n",
       "      <td>1</td>\n",
       "    </tr>\n",
       "  </tbody>\n",
       "</table>\n",
       "<p>1000 rows × 11 columns</p>\n",
       "</div>"
      ],
      "text/plain": [
       "     User_ID  Age  Gender  Total_App_Usage_Hours  Daily_Screen_Time_Hours  \\\n",
       "0          1   56    Male                   2.61                     7.15   \n",
       "1          2   46    Male                   2.13                    13.79   \n",
       "2          3   32  Female                   7.28                     4.50   \n",
       "3          4   25  Female                   1.20                     6.29   \n",
       "4          5   38    Male                   6.31                    12.59   \n",
       "..       ...  ...     ...                    ...                      ...   \n",
       "995      996   41  Female                   3.58                    12.46   \n",
       "996      997   32    Male                   9.65                    10.51   \n",
       "997      998   46  Female                  11.68                    10.06   \n",
       "998      999   25    Male                   3.89                    10.78   \n",
       "999     1000   22  Female                   3.99                     7.05   \n",
       "\n",
       "     Number_of_Apps_Used  Social_Media_Usage_Hours  \\\n",
       "0                     24                      4.43   \n",
       "1                     18                      4.67   \n",
       "2                     11                      4.58   \n",
       "3                     21                      3.18   \n",
       "4                     14                      3.15   \n",
       "..                   ...                       ...   \n",
       "995                   13                      4.12   \n",
       "996                   11                      1.02   \n",
       "997                    9                      2.35   \n",
       "998                   15                      4.00   \n",
       "999                    4                      0.90   \n",
       "\n",
       "     Productivity_App_Usage_Hours  Gaming_App_Usage_Hours     Location  \\\n",
       "0                            0.55                    2.40  Los Angeles   \n",
       "1                            4.42                    2.43      Chicago   \n",
       "2                            1.71                    2.83      Houston   \n",
       "3                            3.42                    4.58      Phoenix   \n",
       "4                            0.13                    4.00     New York   \n",
       "..                            ...                     ...          ...   \n",
       "995                          2.44                    1.33  Los Angeles   \n",
       "996                          1.02                    3.84  Los Angeles   \n",
       "997                          3.13                    1.03      Phoenix   \n",
       "998                          1.79                    1.61      Phoenix   \n",
       "999                          4.98                    2.33      Phoenix   \n",
       "\n",
       "     Daily_Screen_Time_Hours_bool  \n",
       "0                               1  \n",
       "1                               1  \n",
       "2                               1  \n",
       "3                               1  \n",
       "4                               1  \n",
       "..                            ...  \n",
       "995                             1  \n",
       "996                             1  \n",
       "997                             1  \n",
       "998                             1  \n",
       "999                             1  \n",
       "\n",
       "[1000 rows x 11 columns]"
      ]
     },
     "execution_count": 57,
     "metadata": {},
     "output_type": "execute_result"
    }
   ],
   "source": [
    "df"
   ]
  },
  {
   "cell_type": "code",
   "execution_count": 58,
   "id": "2d1e154c-2876-4c2a-a481-7886bdc019b9",
   "metadata": {},
   "outputs": [
    {
     "data": {
      "text/html": [
       "<div>\n",
       "<style scoped>\n",
       "    .dataframe tbody tr th:only-of-type {\n",
       "        vertical-align: middle;\n",
       "    }\n",
       "\n",
       "    .dataframe tbody tr th {\n",
       "        vertical-align: top;\n",
       "    }\n",
       "\n",
       "    .dataframe thead th {\n",
       "        text-align: right;\n",
       "    }\n",
       "</style>\n",
       "<table border=\"1\" class=\"dataframe\">\n",
       "  <thead>\n",
       "    <tr style=\"text-align: right;\">\n",
       "      <th></th>\n",
       "      <th>Daily_Screen_Time_Hours</th>\n",
       "      <th>Social_Media_Usage_Hours</th>\n",
       "    </tr>\n",
       "  </thead>\n",
       "  <tbody>\n",
       "    <tr>\n",
       "      <th>0</th>\n",
       "      <td>7.15</td>\n",
       "      <td>4.43</td>\n",
       "    </tr>\n",
       "    <tr>\n",
       "      <th>1</th>\n",
       "      <td>13.79</td>\n",
       "      <td>4.67</td>\n",
       "    </tr>\n",
       "    <tr>\n",
       "      <th>2</th>\n",
       "      <td>4.50</td>\n",
       "      <td>4.58</td>\n",
       "    </tr>\n",
       "    <tr>\n",
       "      <th>3</th>\n",
       "      <td>6.29</td>\n",
       "      <td>3.18</td>\n",
       "    </tr>\n",
       "    <tr>\n",
       "      <th>4</th>\n",
       "      <td>12.59</td>\n",
       "      <td>3.15</td>\n",
       "    </tr>\n",
       "    <tr>\n",
       "      <th>...</th>\n",
       "      <td>...</td>\n",
       "      <td>...</td>\n",
       "    </tr>\n",
       "    <tr>\n",
       "      <th>995</th>\n",
       "      <td>12.46</td>\n",
       "      <td>4.12</td>\n",
       "    </tr>\n",
       "    <tr>\n",
       "      <th>996</th>\n",
       "      <td>10.51</td>\n",
       "      <td>1.02</td>\n",
       "    </tr>\n",
       "    <tr>\n",
       "      <th>997</th>\n",
       "      <td>10.06</td>\n",
       "      <td>2.35</td>\n",
       "    </tr>\n",
       "    <tr>\n",
       "      <th>998</th>\n",
       "      <td>10.78</td>\n",
       "      <td>4.00</td>\n",
       "    </tr>\n",
       "    <tr>\n",
       "      <th>999</th>\n",
       "      <td>7.05</td>\n",
       "      <td>0.90</td>\n",
       "    </tr>\n",
       "  </tbody>\n",
       "</table>\n",
       "<p>1000 rows × 2 columns</p>\n",
       "</div>"
      ],
      "text/plain": [
       "     Daily_Screen_Time_Hours  Social_Media_Usage_Hours\n",
       "0                       7.15                      4.43\n",
       "1                      13.79                      4.67\n",
       "2                       4.50                      4.58\n",
       "3                       6.29                      3.18\n",
       "4                      12.59                      3.15\n",
       "..                       ...                       ...\n",
       "995                    12.46                      4.12\n",
       "996                    10.51                      1.02\n",
       "997                    10.06                      2.35\n",
       "998                    10.78                      4.00\n",
       "999                     7.05                      0.90\n",
       "\n",
       "[1000 rows x 2 columns]"
      ]
     },
     "execution_count": 58,
     "metadata": {},
     "output_type": "execute_result"
    }
   ],
   "source": [
    "df_slice = df.iloc[:1000][['Daily_Screen_Time_Hours', 'Social_Media_Usage_Hours']] \n",
    "df_slice"
   ]
  },
  {
   "cell_type": "markdown",
   "id": "a060a519-26a1-4439-a3c3-105fd9039ead",
   "metadata": {},
   "source": [
    "Данный анализ показывает, что в современном мире, когда социальные сети заполонили просторы и время пользователей мобильных телефоно, использование социальных сетей занимает практически половину времени всего пользования гаджета."
   ]
  },
  {
   "cell_type": "markdown",
   "id": "90973b59-4436-40d8-a1c6-ff1babee1708",
   "metadata": {},
   "source": [
    "Выводы"
   ]
  },
  {
   "cell_type": "markdown",
   "id": "7f24907a-6ea4-404b-beb9-ab22e9dfa329",
   "metadata": {},
   "source": [
    "Выбранный датасет не имеет пропусков, что говорит о хорошем прогнозировании. Кроме того, отсутствуют дубли. Каждый из показателей датасета влияет на целевую переменную в той или иной степени. Согласно корреляционной матрице социальные сети и игровые приложения занимают большую часть досуга пользователя в телефонном пространстве. Зависимости от пола или местоположения пользователя явно выявлены не были. "
   ]
  },
  {
   "cell_type": "markdown",
   "id": "a65664f1-d1e1-4f3e-ad17-33457810d8ed",
   "metadata": {},
   "source": [
    "# Feature Engineering"
   ]
  },
  {
   "cell_type": "markdown",
   "id": "a6fb9c78-59af-457a-b8d6-d2cea4c9ec9e",
   "metadata": {},
   "source": [
    "## Пропуски"
   ]
  },
  {
   "cell_type": "markdown",
   "id": "8c58ea90-b4b8-42c1-88c7-e989dd5d3b4b",
   "metadata": {},
   "source": [
    "Создадим пропуски искусственно в числовых и категориальных признаках"
   ]
  },
  {
   "cell_type": "code",
   "execution_count": 65,
   "id": "1a30a99b-da07-4771-a889-6f55132a66e7",
   "metadata": {},
   "outputs": [],
   "source": [
    "indices_to_remove = df.sample(frac=0.1, random_state=42).index\n",
    "columns = [\"Total_App_Usage_Hours\", \"Gender\"]\n",
    "df.loc[indices_to_remove, columns] = np.nan"
   ]
  },
  {
   "cell_type": "code",
   "execution_count": 66,
   "id": "0e1231bf-147a-41c8-ae77-d46554c5aea0",
   "metadata": {},
   "outputs": [
    {
     "data": {
      "text/html": [
       "<style type=\"text/css\">\n",
       "#T_ca906_row0_col0, #T_ca906_row0_col1, #T_ca906_row1_col0, #T_ca906_row1_col1 {\n",
       "  background-color: #440154;\n",
       "  color: #f1f1f1;\n",
       "}\n",
       "</style>\n",
       "<table id=\"T_ca906\">\n",
       "  <thead>\n",
       "    <tr>\n",
       "      <th class=\"blank level0\" >&nbsp;</th>\n",
       "      <th id=\"T_ca906_level0_col0\" class=\"col_heading level0 col0\" >Кол-во</th>\n",
       "      <th id=\"T_ca906_level0_col1\" class=\"col_heading level0 col1\" >%</th>\n",
       "    </tr>\n",
       "  </thead>\n",
       "  <tbody>\n",
       "    <tr>\n",
       "      <th id=\"T_ca906_level0_row0\" class=\"row_heading level0 row0\" >Gender</th>\n",
       "      <td id=\"T_ca906_row0_col0\" class=\"data row0 col0\" >100.000000</td>\n",
       "      <td id=\"T_ca906_row0_col1\" class=\"data row0 col1\" >0.100000</td>\n",
       "    </tr>\n",
       "    <tr>\n",
       "      <th id=\"T_ca906_level0_row1\" class=\"row_heading level0 row1\" >Total_App_Usage_Hours</th>\n",
       "      <td id=\"T_ca906_row1_col0\" class=\"data row1 col0\" >100.000000</td>\n",
       "      <td id=\"T_ca906_row1_col1\" class=\"data row1 col1\" >0.100000</td>\n",
       "    </tr>\n",
       "  </tbody>\n",
       "</table>\n"
      ],
      "text/plain": [
       "<pandas.io.formats.style.Styler at 0x176a41d00>"
      ]
     },
     "execution_count": 66,
     "metadata": {},
     "output_type": "execute_result"
    }
   ],
   "source": [
    "pd.DataFrame([\n",
    "    (df.isna().sum())[(df.isna().sum())>0],\n",
    "    (df.isna().sum()/len(df))[(100*df.isna().sum()/len(df))>0]\n",
    "], index = [\"Кол-во\", \"%\"]).T.style.background_gradient(\"viridis\")"
   ]
  },
  {
   "cell_type": "markdown",
   "id": "5213428f-807a-4ebb-adab-c05dd1ae7245",
   "metadata": {},
   "source": [
    "### Заполнение пропусков в числовом признаке"
   ]
  },
  {
   "cell_type": "code",
   "execution_count": 68,
   "id": "2437781d-5e05-4ae7-b0f7-cd469dce0d73",
   "metadata": {},
   "outputs": [
    {
     "data": {
      "text/plain": [
       "<matplotlib.legend.Legend at 0x177cc3830>"
      ]
     },
     "execution_count": 68,
     "metadata": {},
     "output_type": "execute_result"
    },
    {
     "data": {
      "image/png": "[encoded data removed]",
      "text/plain": [
       "<Figure size 640x480 with 1 Axes>"
      ]
     },
     "metadata": {},
     "output_type": "display_data"
    }
   ],
   "source": [
    "mean = df.Total_App_Usage_Hours.mean()\n",
    "median = df.Total_App_Usage_Hours.median()\n",
    "sns.distplot(df.Total_App_Usage_Hours)\n",
    "plt.axvline(mean, color = \"r\", label = f'среднее: {mean:.2f}')\n",
    "plt.axvline(median, color = \"g\", label = f'медиана: {median:.2f}')\n",
    "plt.legend()"
   ]
  },
  {
   "cell_type": "code",
   "execution_count": 69,
   "id": "8e77cc71-6ef5-4808-a022-e9c5a2c2e386",
   "metadata": {},
   "outputs": [
    {
     "data": {
      "text/plain": [
       "<Axes: ylabel='Total_App_Usage_Hours'>"
      ]
     },
     "execution_count": 69,
     "metadata": {},
     "output_type": "execute_result"
    },
    {
     "data": {
      "image/png": "[encoded data removed]",
      "text/plain": [
       "<Figure size 640x480 with 1 Axes>"
      ]
     },
     "metadata": {},
     "output_type": "display_data"
    }
   ],
   "source": [
    "sns.boxplot(df.Total_App_Usage_Hours)"
   ]
  },
  {
   "cell_type": "markdown",
   "id": "18b6c79f-a84b-4b86-bad7-267d8f239312",
   "metadata": {},
   "source": [
    "Для этого числового признака не характерны выбросы, поэтому заполним пропущенные значения средним"
   ]
  },
  {
   "cell_type": "code",
   "execution_count": 71,
   "id": "6bf42164-9fe9-4476-857b-720f8eff6bd0",
   "metadata": {},
   "outputs": [],
   "source": [
    "imputer = SimpleImputer(strategy='mean')\n",
    "df['Total_App_Usage_Hours'] = imputer.fit_transform(df[['Total_App_Usage_Hours']])"
   ]
  },
  {
   "cell_type": "code",
   "execution_count": 72,
   "id": "31981605-fe93-48b8-bfcf-416b1f9f3161",
   "metadata": {},
   "outputs": [
    {
     "data": {
      "text/plain": [
       "0"
      ]
     },
     "execution_count": 72,
     "metadata": {},
     "output_type": "execute_result"
    }
   ],
   "source": [
    "df.Total_App_Usage_Hours.isnull().sum()"
   ]
  },
  {
   "cell_type": "markdown",
   "id": "6874f1ff-2c2f-4825-983d-91ffac798d60",
   "metadata": {},
   "source": [
    "### Заполнение пропусков в категориальном признаке"
   ]
  },
  {
   "cell_type": "code",
   "execution_count": 74,
   "id": "c98836b8-7021-473a-8556-d2d0c3e1c84e",
   "metadata": {},
   "outputs": [
    {
     "data": {
      "text/plain": [
       "<Axes: ylabel='count'>"
      ]
     },
     "execution_count": 74,
     "metadata": {},
     "output_type": "execute_result"
    },
    {
     "data": {
      "image/png": "[encoded data removed]",
      "text/plain": [
       "<Figure size 640x480 with 1 Axes>"
      ]
     },
     "metadata": {},
     "output_type": "display_data"
    }
   ],
   "source": [
    "df['Gender'].value_counts(dropna=False).plot(kind='pie', autopct='%1.1f%%')"
   ]
  },
  {
   "cell_type": "code",
   "execution_count": 75,
   "id": "27142625-3c83-4657-a758-ff750889c0ad",
   "metadata": {},
   "outputs": [
    {
     "data": {
      "text/plain": [
       "count      900\n",
       "unique       2\n",
       "top       Male\n",
       "freq       470\n",
       "Name: Gender, dtype: object"
      ]
     },
     "execution_count": 75,
     "metadata": {},
     "output_type": "execute_result"
    }
   ],
   "source": [
    "df['Gender'].describe()"
   ]
  },
  {
   "cell_type": "markdown",
   "id": "8109f65f-f124-4bbb-9a09-c569db3baac4",
   "metadata": {},
   "source": [
    "Заменим пропуски с помощью `KNNImputer` (метод k-ближайших соседей)"
   ]
  },
  {
   "cell_type": "code",
   "execution_count": 77,
   "id": "ecd5ad29-7280-4a09-b943-235e8a45ff6f",
   "metadata": {},
   "outputs": [],
   "source": [
    "df['Gender'] = df['Gender'].map({'Male': 1, 'Female': 0})"
   ]
  },
  {
   "cell_type": "code",
   "execution_count": 78,
   "id": "59d5987b-3270-4708-9cdc-5d442642178f",
   "metadata": {},
   "outputs": [],
   "source": [
    "knn_imputer = KNNImputer(n_neighbors=5, weights=\"uniform\")\n",
    "df['Gender'] = knn_imputer.fit_transform(df[['Gender']])\n",
    "df['Gender'] = df['Gender'].round()"
   ]
  },
  {
   "cell_type": "code",
   "execution_count": 79,
   "id": "d5a40e36-8e4b-4e76-a18d-2953ad63e116",
   "metadata": {},
   "outputs": [
    {
     "data": {
      "text/plain": [
       "0"
      ]
     },
     "execution_count": 79,
     "metadata": {},
     "output_type": "execute_result"
    }
   ],
   "source": [
    "df.Gender.isnull().sum()"
   ]
  },
  {
   "cell_type": "markdown",
   "id": "5b32d282-a9bf-4463-8bc3-5434e479615c",
   "metadata": {},
   "source": [
    "## Обработка выбросов"
   ]
  },
  {
   "cell_type": "markdown",
   "id": "f1569af9-9613-4a3a-b8ff-0e29ea5201c4",
   "metadata": {},
   "source": [
    "Построим боксплоты для всех числовых переменных датасета, чтобы изучить их на выбросы"
   ]
  },
  {
   "cell_type": "code",
   "execution_count": 82,
   "id": "621cba83-d6cc-4483-af26-00d5f4f21cf1",
   "metadata": {},
   "outputs": [
    {
     "data": {
      "text/html": [
       "<div>\n",
       "<style scoped>\n",
       "    .dataframe tbody tr th:only-of-type {\n",
       "        vertical-align: middle;\n",
       "    }\n",
       "\n",
       "    .dataframe tbody tr th {\n",
       "        vertical-align: top;\n",
       "    }\n",
       "\n",
       "    .dataframe thead th {\n",
       "        text-align: right;\n",
       "    }\n",
       "</style>\n",
       "<table border=\"1\" class=\"dataframe\">\n",
       "  <thead>\n",
       "    <tr style=\"text-align: right;\">\n",
       "      <th></th>\n",
       "      <th>Age</th>\n",
       "      <th>Total_App_Usage_Hours</th>\n",
       "      <th>Number_of_Apps_Used</th>\n",
       "      <th>Social_Media_Usage_Hours</th>\n",
       "      <th>Productivity_App_Usage_Hours</th>\n",
       "      <th>Gaming_App_Usage_Hours</th>\n",
       "    </tr>\n",
       "  </thead>\n",
       "  <tbody>\n",
       "    <tr>\n",
       "      <th>0</th>\n",
       "      <td>56</td>\n",
       "      <td>2.610000</td>\n",
       "      <td>24</td>\n",
       "      <td>4.43</td>\n",
       "      <td>0.55</td>\n",
       "      <td>2.40</td>\n",
       "    </tr>\n",
       "    <tr>\n",
       "      <th>1</th>\n",
       "      <td>46</td>\n",
       "      <td>2.130000</td>\n",
       "      <td>18</td>\n",
       "      <td>4.67</td>\n",
       "      <td>4.42</td>\n",
       "      <td>2.43</td>\n",
       "    </tr>\n",
       "    <tr>\n",
       "      <th>2</th>\n",
       "      <td>32</td>\n",
       "      <td>7.280000</td>\n",
       "      <td>11</td>\n",
       "      <td>4.58</td>\n",
       "      <td>1.71</td>\n",
       "      <td>2.83</td>\n",
       "    </tr>\n",
       "    <tr>\n",
       "      <th>3</th>\n",
       "      <td>25</td>\n",
       "      <td>1.200000</td>\n",
       "      <td>21</td>\n",
       "      <td>3.18</td>\n",
       "      <td>3.42</td>\n",
       "      <td>4.58</td>\n",
       "    </tr>\n",
       "    <tr>\n",
       "      <th>4</th>\n",
       "      <td>38</td>\n",
       "      <td>6.310000</td>\n",
       "      <td>14</td>\n",
       "      <td>3.15</td>\n",
       "      <td>0.13</td>\n",
       "      <td>4.00</td>\n",
       "    </tr>\n",
       "    <tr>\n",
       "      <th>...</th>\n",
       "      <td>...</td>\n",
       "      <td>...</td>\n",
       "      <td>...</td>\n",
       "      <td>...</td>\n",
       "      <td>...</td>\n",
       "      <td>...</td>\n",
       "    </tr>\n",
       "    <tr>\n",
       "      <th>995</th>\n",
       "      <td>41</td>\n",
       "      <td>3.580000</td>\n",
       "      <td>13</td>\n",
       "      <td>4.12</td>\n",
       "      <td>2.44</td>\n",
       "      <td>1.33</td>\n",
       "    </tr>\n",
       "    <tr>\n",
       "      <th>996</th>\n",
       "      <td>32</td>\n",
       "      <td>9.650000</td>\n",
       "      <td>11</td>\n",
       "      <td>1.02</td>\n",
       "      <td>1.02</td>\n",
       "      <td>3.84</td>\n",
       "    </tr>\n",
       "    <tr>\n",
       "      <th>997</th>\n",
       "      <td>46</td>\n",
       "      <td>11.680000</td>\n",
       "      <td>9</td>\n",
       "      <td>2.35</td>\n",
       "      <td>3.13</td>\n",
       "      <td>1.03</td>\n",
       "    </tr>\n",
       "    <tr>\n",
       "      <th>998</th>\n",
       "      <td>25</td>\n",
       "      <td>6.389978</td>\n",
       "      <td>15</td>\n",
       "      <td>4.00</td>\n",
       "      <td>1.79</td>\n",
       "      <td>1.61</td>\n",
       "    </tr>\n",
       "    <tr>\n",
       "      <th>999</th>\n",
       "      <td>22</td>\n",
       "      <td>3.990000</td>\n",
       "      <td>4</td>\n",
       "      <td>0.90</td>\n",
       "      <td>4.98</td>\n",
       "      <td>2.33</td>\n",
       "    </tr>\n",
       "  </tbody>\n",
       "</table>\n",
       "<p>1000 rows × 6 columns</p>\n",
       "</div>"
      ],
      "text/plain": [
       "     Age  Total_App_Usage_Hours  Number_of_Apps_Used  \\\n",
       "0     56               2.610000                   24   \n",
       "1     46               2.130000                   18   \n",
       "2     32               7.280000                   11   \n",
       "3     25               1.200000                   21   \n",
       "4     38               6.310000                   14   \n",
       "..   ...                    ...                  ...   \n",
       "995   41               3.580000                   13   \n",
       "996   32               9.650000                   11   \n",
       "997   46              11.680000                    9   \n",
       "998   25               6.389978                   15   \n",
       "999   22               3.990000                    4   \n",
       "\n",
       "     Social_Media_Usage_Hours  Productivity_App_Usage_Hours  \\\n",
       "0                        4.43                          0.55   \n",
       "1                        4.67                          4.42   \n",
       "2                        4.58                          1.71   \n",
       "3                        3.18                          3.42   \n",
       "4                        3.15                          0.13   \n",
       "..                        ...                           ...   \n",
       "995                      4.12                          2.44   \n",
       "996                      1.02                          1.02   \n",
       "997                      2.35                          3.13   \n",
       "998                      4.00                          1.79   \n",
       "999                      0.90                          4.98   \n",
       "\n",
       "     Gaming_App_Usage_Hours  \n",
       "0                      2.40  \n",
       "1                      2.43  \n",
       "2                      2.83  \n",
       "3                      4.58  \n",
       "4                      4.00  \n",
       "..                      ...  \n",
       "995                    1.33  \n",
       "996                    3.84  \n",
       "997                    1.03  \n",
       "998                    1.61  \n",
       "999                    2.33  \n",
       "\n",
       "[1000 rows x 6 columns]"
      ]
     },
     "execution_count": 82,
     "metadata": {},
     "output_type": "execute_result"
    }
   ],
   "source": [
    "df[num_var]"
   ]
  },
  {
   "cell_type": "code",
   "execution_count": 83,
   "id": "a4ce641e-34a7-4d97-ab7c-8269123510dd",
   "metadata": {},
   "outputs": [],
   "source": [
    "def box_plots(df, columns):\n",
    "    for col in columns:\n",
    "        plt.figure(figsize=(8, 6))\n",
    "        sns.boxplot(x=df[col])\n",
    "        plt.title(f'Боксплот для {col}')\n",
    "        plt.xlabel(col)\n",
    "        plt.show()"
   ]
  },
  {
   "cell_type": "code",
   "execution_count": 84,
   "id": "dd4a9f8c-7cc2-419c-be23-b982186dbea3",
   "metadata": {},
   "outputs": [
    {
     "data": {
      "image/png": "[encoded data removed]",
      "text/plain": [
       "<Figure size 800x600 with 1 Axes>"
      ]
     },
     "metadata": {},
     "output_type": "display_data"
    },
    {
     "data": {
      "image/png": "[encoded data removed]",
      "text/plain": [
       "<Figure size 800x600 with 1 Axes>"
      ]
     },
     "metadata": {},
     "output_type": "display_data"
    },
    {
     "data": {
      "image/png": "[encoded data removed]",
      "text/plain": [
       "<Figure size 800x600 with 1 Axes>"
      ]
     },
     "metadata": {},
     "output_type": "display_data"
    },
    {
     "data": {
      "image/png": "[encoded data removed]",
      "text/plain": [
       "<Figure size 800x600 with 1 Axes>"
      ]
     },
     "metadata": {},
     "output_type": "display_data"
    },
    {
     "data": {
      "image/png": "[encoded data removed]",
      "text/plain": [
       "<Figure size 800x600 with 1 Axes>"
      ]
     },
     "metadata": {},
     "output_type": "display_data"
    },
    {
     "data": {
      "image/png": "[encoded data removed]",
      "text/plain": [
       "<Figure size 800x600 with 1 Axes>"
      ]
     },
     "metadata": {},
     "output_type": "display_data"
    },
    {
     "data": {
      "image/png": "[encoded data removed]",
      "text/plain": [
       "<Figure size 800x600 with 1 Axes>"
      ]
     },
     "metadata": {},
     "output_type": "display_data"
    }
   ],
   "source": [
    "box_plots(df, [target]+num_var)"
   ]
  },
  {
   "cell_type": "markdown",
   "id": "1605538a-04c2-4e4c-b9dd-2f60d5415f17",
   "metadata": {},
   "source": [
    "**Вывод**: Выбросов нет"
   ]
  },
  {
   "cell_type": "markdown",
   "id": "bd0e42fd-0927-42fe-9007-d427cd210d91",
   "metadata": {},
   "source": [
    "## Кодировка категориальных данных"
   ]
  },
  {
   "cell_type": "code",
   "execution_count": 87,
   "id": "93d68d37-4e3d-4970-bf93-1d6f452bf07e",
   "metadata": {},
   "outputs": [
    {
     "data": {
      "text/html": [
       "<div>\n",
       "<style scoped>\n",
       "    .dataframe tbody tr th:only-of-type {\n",
       "        vertical-align: middle;\n",
       "    }\n",
       "\n",
       "    .dataframe tbody tr th {\n",
       "        vertical-align: top;\n",
       "    }\n",
       "\n",
       "    .dataframe thead th {\n",
       "        text-align: right;\n",
       "    }\n",
       "</style>\n",
       "<table border=\"1\" class=\"dataframe\">\n",
       "  <thead>\n",
       "    <tr style=\"text-align: right;\">\n",
       "      <th></th>\n",
       "      <th>Gender</th>\n",
       "      <th>Location</th>\n",
       "    </tr>\n",
       "  </thead>\n",
       "  <tbody>\n",
       "    <tr>\n",
       "      <th>0</th>\n",
       "      <td>1.0</td>\n",
       "      <td>Los Angeles</td>\n",
       "    </tr>\n",
       "    <tr>\n",
       "      <th>1</th>\n",
       "      <td>1.0</td>\n",
       "      <td>Chicago</td>\n",
       "    </tr>\n",
       "    <tr>\n",
       "      <th>2</th>\n",
       "      <td>0.0</td>\n",
       "      <td>Houston</td>\n",
       "    </tr>\n",
       "    <tr>\n",
       "      <th>3</th>\n",
       "      <td>0.0</td>\n",
       "      <td>Phoenix</td>\n",
       "    </tr>\n",
       "    <tr>\n",
       "      <th>4</th>\n",
       "      <td>1.0</td>\n",
       "      <td>New York</td>\n",
       "    </tr>\n",
       "    <tr>\n",
       "      <th>...</th>\n",
       "      <td>...</td>\n",
       "      <td>...</td>\n",
       "    </tr>\n",
       "    <tr>\n",
       "      <th>995</th>\n",
       "      <td>0.0</td>\n",
       "      <td>Los Angeles</td>\n",
       "    </tr>\n",
       "    <tr>\n",
       "      <th>996</th>\n",
       "      <td>1.0</td>\n",
       "      <td>Los Angeles</td>\n",
       "    </tr>\n",
       "    <tr>\n",
       "      <th>997</th>\n",
       "      <td>0.0</td>\n",
       "      <td>Phoenix</td>\n",
       "    </tr>\n",
       "    <tr>\n",
       "      <th>998</th>\n",
       "      <td>1.0</td>\n",
       "      <td>Phoenix</td>\n",
       "    </tr>\n",
       "    <tr>\n",
       "      <th>999</th>\n",
       "      <td>0.0</td>\n",
       "      <td>Phoenix</td>\n",
       "    </tr>\n",
       "  </tbody>\n",
       "</table>\n",
       "<p>1000 rows × 2 columns</p>\n",
       "</div>"
      ],
      "text/plain": [
       "     Gender     Location\n",
       "0       1.0  Los Angeles\n",
       "1       1.0      Chicago\n",
       "2       0.0      Houston\n",
       "3       0.0      Phoenix\n",
       "4       1.0     New York\n",
       "..      ...          ...\n",
       "995     0.0  Los Angeles\n",
       "996     1.0  Los Angeles\n",
       "997     0.0      Phoenix\n",
       "998     1.0      Phoenix\n",
       "999     0.0      Phoenix\n",
       "\n",
       "[1000 rows x 2 columns]"
      ]
     },
     "execution_count": 87,
     "metadata": {},
     "output_type": "execute_result"
    }
   ],
   "source": [
    "df[cat_var]"
   ]
  },
  {
   "cell_type": "markdown",
   "id": "7735e1a0-7d24-4df2-91bd-bfac5a79069e",
   "metadata": {},
   "source": [
    "У нас всего 1 категориальная переменная — `Location` (Gender на прошлом шаге мы привели к типу bool)\n",
    "\n",
    "`Location` — номинальные данные"
   ]
  },
  {
   "cell_type": "code",
   "execution_count": 89,
   "id": "b5e7f67e-490c-465a-bc4b-0b23ce692f9c",
   "metadata": {},
   "outputs": [
    {
     "data": {
      "text/plain": [
       "array(['Los Angeles', 'Chicago', 'Houston', 'Phoenix', 'New York'],\n",
       "      dtype=object)"
      ]
     },
     "execution_count": 89,
     "metadata": {},
     "output_type": "execute_result"
    }
   ],
   "source": [
    "df.Location.unique()"
   ]
  },
  {
   "cell_type": "markdown",
   "id": "f802731e-5790-488d-b585-247c2d4eedf8",
   "metadata": {},
   "source": [
    "Это набор данных с **невысокой кардинальностью** — 5 уникальных значений\n",
    "\n",
    "Закодируем с помощью `BinaryEncoder`\n",
    "- Преобразует категориальные значения в бинарный формат. Этот метод полезен для работы с большим количеством уникальных значений, так как снижает размерность данных по сравнению с `One-Hot Encoding`.\n",
    "- Каждый уникальный `Location` преобразуется в бинарный код, где каждая колонка соответствует одному биту."
   ]
  },
  {
   "cell_type": "code",
   "execution_count": 91,
   "id": "42f6b138-e833-4f0a-8e14-ebdc73dc8372",
   "metadata": {},
   "outputs": [
    {
     "data": {
      "text/html": [
       "<div>\n",
       "<style scoped>\n",
       "    .dataframe tbody tr th:only-of-type {\n",
       "        vertical-align: middle;\n",
       "    }\n",
       "\n",
       "    .dataframe tbody tr th {\n",
       "        vertical-align: top;\n",
       "    }\n",
       "\n",
       "    .dataframe thead th {\n",
       "        text-align: right;\n",
       "    }\n",
       "</style>\n",
       "<table border=\"1\" class=\"dataframe\">\n",
       "  <thead>\n",
       "    <tr style=\"text-align: right;\">\n",
       "      <th></th>\n",
       "      <th>User_ID</th>\n",
       "      <th>Age</th>\n",
       "      <th>Gender</th>\n",
       "      <th>Total_App_Usage_Hours</th>\n",
       "      <th>Daily_Screen_Time_Hours</th>\n",
       "      <th>Number_of_Apps_Used</th>\n",
       "      <th>Social_Media_Usage_Hours</th>\n",
       "      <th>Productivity_App_Usage_Hours</th>\n",
       "      <th>Gaming_App_Usage_Hours</th>\n",
       "      <th>Location_0</th>\n",
       "      <th>Location_1</th>\n",
       "      <th>Location_2</th>\n",
       "      <th>Daily_Screen_Time_Hours_bool</th>\n",
       "    </tr>\n",
       "  </thead>\n",
       "  <tbody>\n",
       "    <tr>\n",
       "      <th>0</th>\n",
       "      <td>1</td>\n",
       "      <td>56</td>\n",
       "      <td>1.0</td>\n",
       "      <td>2.610000</td>\n",
       "      <td>7.15</td>\n",
       "      <td>24</td>\n",
       "      <td>4.43</td>\n",
       "      <td>0.55</td>\n",
       "      <td>2.40</td>\n",
       "      <td>0</td>\n",
       "      <td>0</td>\n",
       "      <td>1</td>\n",
       "      <td>1</td>\n",
       "    </tr>\n",
       "    <tr>\n",
       "      <th>1</th>\n",
       "      <td>2</td>\n",
       "      <td>46</td>\n",
       "      <td>1.0</td>\n",
       "      <td>2.130000</td>\n",
       "      <td>13.79</td>\n",
       "      <td>18</td>\n",
       "      <td>4.67</td>\n",
       "      <td>4.42</td>\n",
       "      <td>2.43</td>\n",
       "      <td>0</td>\n",
       "      <td>1</td>\n",
       "      <td>0</td>\n",
       "      <td>1</td>\n",
       "    </tr>\n",
       "    <tr>\n",
       "      <th>2</th>\n",
       "      <td>3</td>\n",
       "      <td>32</td>\n",
       "      <td>0.0</td>\n",
       "      <td>7.280000</td>\n",
       "      <td>4.50</td>\n",
       "      <td>11</td>\n",
       "      <td>4.58</td>\n",
       "      <td>1.71</td>\n",
       "      <td>2.83</td>\n",
       "      <td>0</td>\n",
       "      <td>1</td>\n",
       "      <td>1</td>\n",
       "      <td>1</td>\n",
       "    </tr>\n",
       "    <tr>\n",
       "      <th>3</th>\n",
       "      <td>4</td>\n",
       "      <td>25</td>\n",
       "      <td>0.0</td>\n",
       "      <td>1.200000</td>\n",
       "      <td>6.29</td>\n",
       "      <td>21</td>\n",
       "      <td>3.18</td>\n",
       "      <td>3.42</td>\n",
       "      <td>4.58</td>\n",
       "      <td>1</td>\n",
       "      <td>0</td>\n",
       "      <td>0</td>\n",
       "      <td>1</td>\n",
       "    </tr>\n",
       "    <tr>\n",
       "      <th>4</th>\n",
       "      <td>5</td>\n",
       "      <td>38</td>\n",
       "      <td>1.0</td>\n",
       "      <td>6.310000</td>\n",
       "      <td>12.59</td>\n",
       "      <td>14</td>\n",
       "      <td>3.15</td>\n",
       "      <td>0.13</td>\n",
       "      <td>4.00</td>\n",
       "      <td>1</td>\n",
       "      <td>0</td>\n",
       "      <td>1</td>\n",
       "      <td>1</td>\n",
       "    </tr>\n",
       "    <tr>\n",
       "      <th>...</th>\n",
       "      <td>...</td>\n",
       "      <td>...</td>\n",
       "      <td>...</td>\n",
       "      <td>...</td>\n",
       "      <td>...</td>\n",
       "      <td>...</td>\n",
       "      <td>...</td>\n",
       "      <td>...</td>\n",
       "      <td>...</td>\n",
       "      <td>...</td>\n",
       "      <td>...</td>\n",
       "      <td>...</td>\n",
       "      <td>...</td>\n",
       "    </tr>\n",
       "    <tr>\n",
       "      <th>995</th>\n",
       "      <td>996</td>\n",
       "      <td>41</td>\n",
       "      <td>0.0</td>\n",
       "      <td>3.580000</td>\n",
       "      <td>12.46</td>\n",
       "      <td>13</td>\n",
       "      <td>4.12</td>\n",
       "      <td>2.44</td>\n",
       "      <td>1.33</td>\n",
       "      <td>0</td>\n",
       "      <td>0</td>\n",
       "      <td>1</td>\n",
       "      <td>1</td>\n",
       "    </tr>\n",
       "    <tr>\n",
       "      <th>996</th>\n",
       "      <td>997</td>\n",
       "      <td>32</td>\n",
       "      <td>1.0</td>\n",
       "      <td>9.650000</td>\n",
       "      <td>10.51</td>\n",
       "      <td>11</td>\n",
       "      <td>1.02</td>\n",
       "      <td>1.02</td>\n",
       "      <td>3.84</td>\n",
       "      <td>0</td>\n",
       "      <td>0</td>\n",
       "      <td>1</td>\n",
       "      <td>1</td>\n",
       "    </tr>\n",
       "    <tr>\n",
       "      <th>997</th>\n",
       "      <td>998</td>\n",
       "      <td>46</td>\n",
       "      <td>0.0</td>\n",
       "      <td>11.680000</td>\n",
       "      <td>10.06</td>\n",
       "      <td>9</td>\n",
       "      <td>2.35</td>\n",
       "      <td>3.13</td>\n",
       "      <td>1.03</td>\n",
       "      <td>1</td>\n",
       "      <td>0</td>\n",
       "      <td>0</td>\n",
       "      <td>1</td>\n",
       "    </tr>\n",
       "    <tr>\n",
       "      <th>998</th>\n",
       "      <td>999</td>\n",
       "      <td>25</td>\n",
       "      <td>1.0</td>\n",
       "      <td>6.389978</td>\n",
       "      <td>10.78</td>\n",
       "      <td>15</td>\n",
       "      <td>4.00</td>\n",
       "      <td>1.79</td>\n",
       "      <td>1.61</td>\n",
       "      <td>1</td>\n",
       "      <td>0</td>\n",
       "      <td>0</td>\n",
       "      <td>1</td>\n",
       "    </tr>\n",
       "    <tr>\n",
       "      <th>999</th>\n",
       "      <td>1000</td>\n",
       "      <td>22</td>\n",
       "      <td>0.0</td>\n",
       "      <td>3.990000</td>\n",
       "      <td>7.05</td>\n",
       "      <td>4</td>\n",
       "      <td>0.90</td>\n",
       "      <td>4.98</td>\n",
       "      <td>2.33</td>\n",
       "      <td>1</td>\n",
       "      <td>0</td>\n",
       "      <td>0</td>\n",
       "      <td>1</td>\n",
       "    </tr>\n",
       "  </tbody>\n",
       "</table>\n",
       "<p>1000 rows × 13 columns</p>\n",
       "</div>"
      ],
      "text/plain": [
       "     User_ID  Age  Gender  Total_App_Usage_Hours  Daily_Screen_Time_Hours  \\\n",
       "0          1   56     1.0               2.610000                     7.15   \n",
       "1          2   46     1.0               2.130000                    13.79   \n",
       "2          3   32     0.0               7.280000                     4.50   \n",
       "3          4   25     0.0               1.200000                     6.29   \n",
       "4          5   38     1.0               6.310000                    12.59   \n",
       "..       ...  ...     ...                    ...                      ...   \n",
       "995      996   41     0.0               3.580000                    12.46   \n",
       "996      997   32     1.0               9.650000                    10.51   \n",
       "997      998   46     0.0              11.680000                    10.06   \n",
       "998      999   25     1.0               6.389978                    10.78   \n",
       "999     1000   22     0.0               3.990000                     7.05   \n",
       "\n",
       "     Number_of_Apps_Used  Social_Media_Usage_Hours  \\\n",
       "0                     24                      4.43   \n",
       "1                     18                      4.67   \n",
       "2                     11                      4.58   \n",
       "3                     21                      3.18   \n",
       "4                     14                      3.15   \n",
       "..                   ...                       ...   \n",
       "995                   13                      4.12   \n",
       "996                   11                      1.02   \n",
       "997                    9                      2.35   \n",
       "998                   15                      4.00   \n",
       "999                    4                      0.90   \n",
       "\n",
       "     Productivity_App_Usage_Hours  Gaming_App_Usage_Hours  Location_0  \\\n",
       "0                            0.55                    2.40           0   \n",
       "1                            4.42                    2.43           0   \n",
       "2                            1.71                    2.83           0   \n",
       "3                            3.42                    4.58           1   \n",
       "4                            0.13                    4.00           1   \n",
       "..                            ...                     ...         ...   \n",
       "995                          2.44                    1.33           0   \n",
       "996                          1.02                    3.84           0   \n",
       "997                          3.13                    1.03           1   \n",
       "998                          1.79                    1.61           1   \n",
       "999                          4.98                    2.33           1   \n",
       "\n",
       "     Location_1  Location_2  Daily_Screen_Time_Hours_bool  \n",
       "0             0           1                             1  \n",
       "1             1           0                             1  \n",
       "2             1           1                             1  \n",
       "3             0           0                             1  \n",
       "4             0           1                             1  \n",
       "..          ...         ...                           ...  \n",
       "995           0           1                             1  \n",
       "996           0           1                             1  \n",
       "997           0           0                             1  \n",
       "998           0           0                             1  \n",
       "999           0           0                             1  \n",
       "\n",
       "[1000 rows x 13 columns]"
      ]
     },
     "execution_count": 91,
     "metadata": {},
     "output_type": "execute_result"
    }
   ],
   "source": [
    "enc = ce.BinaryEncoder(cols=['Location'])\n",
    "df = enc.fit_transform(df)\n",
    "df"
   ]
  },
  {
   "cell_type": "markdown",
   "id": "c231de9c-8c97-4357-943d-4f972541bcae",
   "metadata": {},
   "source": [
    "## Выбранная метрика  — `F1-мера`"
   ]
  },
  {
   "cell_type": "code",
   "execution_count": 93,
   "id": "ea33617a-30d9-4ecd-86e9-95a58140411d",
   "metadata": {},
   "outputs": [],
   "source": [
    "df.Daily_Screen_Time_Hours = df.Daily_Screen_Time_Hours_bool\n",
    "df.drop(columns = \"Daily_Screen_Time_Hours_bool\", inplace = True)"
   ]
  },
  {
   "cell_type": "code",
   "execution_count": 94,
   "id": "f112744b-3bad-423a-9b8b-a270e6911630",
   "metadata": {},
   "outputs": [
    {
     "data": {
      "text/plain": [
       "Daily_Screen_Time_Hours\n",
       "1    0.783\n",
       "0    0.217\n",
       "Name: proportion, dtype: float64"
      ]
     },
     "execution_count": 94,
     "metadata": {},
     "output_type": "execute_result"
    }
   ],
   "source": [
    "df.Daily_Screen_Time_Hours.value_counts(normalize = True)"
   ]
  },
  {
   "cell_type": "markdown",
   "id": "55f3b7ae-df0f-48cf-8429-ccff6a2398b9",
   "metadata": {},
   "source": [
    "Будем использовать **`F1-метрику`** для оценки модели в вашем датасете, поскольку классы распределены неравномерно (21.7% и 78.3%), и стандартная `Accuracy` может быть обманчиво высокой за счет доминирования большинства класса. **`F1-метрика`** как `Precision`, так и `Recall`, что особенно важно для сбалансированной оценки качества предсказаний, поскольку она помогает учесть как точность нахождения меньшинства, так и полноту обнаружения всех примеров редкого класса"
   ]
  }
 ],
 "metadata": {
  "kernelspec": {
   "display_name": "Python 3 (ipykernel)",
   "language": "python",
   "name": "python3"
  },
  "language_info": {
   "codemirror_mode": {
    "name": "ipython",
    "version": 3
   },
   "file_extension": ".py",
   "mimetype": "text/x-python",
   "name": "python",
   "nbconvert_exporter": "python",
   "pygments_lexer": "ipython3",
   "version": "3.12.4"
  }
 },
 "nbformat": 4,
 "nbformat_minor": 5
}
